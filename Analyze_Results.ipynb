{
 "cells": [
  {
   "cell_type": "code",
   "execution_count": 33,
   "metadata": {},
   "outputs": [],
   "source": [
    "import os\n",
    "import json"
   ]
  },
  {
   "cell_type": "code",
   "execution_count": 34,
   "metadata": {},
   "outputs": [],
   "source": [
    "folder_name = \"04-10-2020_09-28\"\n",
    "dir = os.getcwd() + \"/Plots/\" + folder_name\n",
    "\n",
    "sub_folders = os.walk(dir)"
   ]
  },
  {
   "cell_type": "code",
   "execution_count": 35,
   "metadata": {},
   "outputs": [
    {
     "name": "stdout",
     "output_type": "stream",
     "text": [
      "1.0\n",
      "1.0\n",
      "1.0\n",
      "1.0\n",
      "1.0\n",
      "1.0\n",
      "1.0\n",
      "1.0\n",
      "1.0\n",
      "1.0\n",
      "1.0\n",
      "1.0\n",
      "1.0\n",
      "1.0\n",
      "1.0\n",
      "1.0\n",
      "1.0\n",
      "1.0\n",
      "1.0\n",
      "1.0\n",
      "1.0\n",
      "1.0\n",
      "1.0\n",
      "1.0\n",
      "1.0\n",
      "1.0\n"
     ]
    }
   ],
   "source": [
    "max_gc = 0.0\n",
    "max_gc_key = None\n",
    "max_ga = 0.0\n",
    "max_ga_key = None\n",
    "\n",
    "\n",
    "i = 0\n",
    "for folder in sub_folders:\n",
    "    if i != 0:\n",
    "        results_dir = folder[0] + \"/data.json\"\n",
    "        with open(results_dir) as json_file:\n",
    "            data = json.load(json_file)\n",
    "        print(data['BL']['ratio'])\n",
    "        if data['GC']['ratio'] > max_gc:\n",
    "            max_gc = data['GC']['ratio']\n",
    "            max_gc_key = folder\n",
    "        if data['GA']['ratio'] > max_ga:\n",
    "            max_ga = data['GA']['ratio']\n",
    "            max_ga_key = folder \n",
    "    i += 1"
   ]
  },
  {
   "cell_type": "code",
   "execution_count": 36,
   "metadata": {},
   "outputs": [
    {
     "data": {
      "text/plain": [
       "('/home/shiva/Desktop/BankMarketing/Plots/04-10-2020_09-28/gp_4b',\n",
       " [],\n",
       " ['5.pdf', '3.pdf', '2.pdf', '1.pdf', '4.pdf', 'data.json', 'cs_data.json'])"
      ]
     },
     "execution_count": 36,
     "metadata": {},
     "output_type": "execute_result"
    }
   ],
   "source": [
    "max_ga_key"
   ]
  },
  {
   "cell_type": "code",
   "execution_count": 37,
   "metadata": {},
   "outputs": [
    {
     "data": {
      "text/plain": [
       "('/home/shiva/Desktop/BankMarketing/Plots/04-10-2020_09-28/gp_4b',\n",
       " [],\n",
       " ['5.pdf', '3.pdf', '2.pdf', '1.pdf', '4.pdf', 'data.json', 'cs_data.json'])"
      ]
     },
     "execution_count": 37,
     "metadata": {},
     "output_type": "execute_result"
    }
   ],
   "source": [
    "max_gc_key"
   ]
  },
  {
   "cell_type": "code",
   "execution_count": null,
   "metadata": {},
   "outputs": [],
   "source": []
  }
 ],
 "metadata": {
  "kernelspec": {
   "display_name": "Python 3",
   "language": "python",
   "name": "python3"
  },
  "language_info": {
   "codemirror_mode": {
    "name": "ipython",
    "version": 3
   },
   "file_extension": ".py",
   "mimetype": "text/x-python",
   "name": "python",
   "nbconvert_exporter": "python",
   "pygments_lexer": "ipython3",
   "version": "3.6.9"
  }
 },
 "nbformat": 4,
 "nbformat_minor": 4
}
