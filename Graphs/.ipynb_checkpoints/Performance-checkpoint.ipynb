{
 "cells": [
  {
   "cell_type": "code",
   "execution_count": 12,
   "metadata": {},
   "outputs": [],
   "source": [
    "from sklearn import metrics\n",
    "import json\n",
    "import numpy as np\n",
    "import matplotlib.pyplot as plt"
   ]
  },
  {
   "cell_type": "code",
   "execution_count": 13,
   "metadata": {},
   "outputs": [],
   "source": [
    "def process_points(res):\n",
    "    x1 = []\n",
    "    y1 = []\n",
    "    if res == None:\n",
    "        return [0, 0], [0, 0]\n",
    "    x1.append(0)\n",
    "    y1.append(0)\n",
    "    for item in res:\n",
    "        y1.append(item[0])\n",
    "        x1.append(item[1])\n",
    "    return x1, y1\n",
    "\n",
    "\n",
    "def find_optimal_stop_point(min_val, arr, limit):\n",
    "    diff_arr = [abs(el - min_val) for el in arr[0]]\n",
    "    print(len(arr[0]))\n",
    "    print(len(diff_arr))\n",
    "    min_diff_val = (min(diff_arr))\n",
    "    min_index = diff_arr.index(min_diff_val)\n",
    "    print(\"Min diff val:\", min_diff_val)\n",
    "    print(\"Call Value: \", arr[0][min_index])\n",
    "    return min_index"
   ]
  },
  {
   "cell_type": "code",
   "execution_count": 14,
   "metadata": {},
   "outputs": [
    {
     "name": "stdout",
     "output_type": "stream",
     "text": [
      "dict_keys(['1_1', '1_2', '1_3', '1_4', '1_5'])\n",
      "1\n",
      "2\n",
      "3\n",
      "4\n",
      "5\n"
     ]
    }
   ],
   "source": [
    "results_1 = []\n",
    "results_2 = []\n",
    "results_3 = []\n",
    "results_4 = []\n",
    "results_5 = []\n",
    "results_6 = []\n",
    "results_65 = []\n",
    "results_7 = []\n",
    "results_8 = []\n",
    "results_9 = []\n",
    "results_10 = []\n",
    "\n",
    "filename = 'mod_2_20.json'\n",
    "\n",
    "# filename = 'Full_Test_50db20' + '.json'\n",
    "\n",
    "with open(filename) as json_file:\n",
    "    data = json.load(json_file)\n",
    "\n",
    "print(data.keys())\n",
    "\n",
    "i = 0\n",
    "for kfold_key in data.keys():\n",
    "    i += 1\n",
    "    print(i)\n",
    "    res = data[kfold_key]['p1']\n",
    "    res2 = data[kfold_key]['p2']\n",
    "    res4 = data[kfold_key]['p4']\n",
    "    res5 = data[kfold_key]['p5']\n",
    "    res6 = data[kfold_key]['p6']\n",
    "    res7 = data[kfold_key]['p7']\n",
    "    res8 = data[kfold_key]['p8']\n",
    "    res9 = None\n",
    "    res10= None\n",
    "        \n",
    "    x1, y1 = process_points(res)\n",
    "    x2, y2 = process_points(res2)\n",
    "    x4, y4 = process_points(res4) \n",
    "    x5, y5 = process_points(res5)\n",
    "    x6, y6 = process_points(res6)\n",
    "    x7, y7 = process_points(res7)\n",
    "    x8, y8 = process_points(res8)\n",
    "#     x9, y9 = process_points(res9)\n",
    "    \n",
    "    last_num_calls = [x1[-1], x2[-2], x4[-1], x5[-1], x6[-1], x7[-1], x8[-1]]\n",
    "    arrays = [[x1, y1], [x2, y2], [x4, y4], [x5, y5], [x6, y6], [x7, y7] , [x8, y8]]\n",
    "#     array_chop_points = []\n",
    "#     min_val = min(last_num_calls)\n",
    "#     min_index = last_num_calls.index(min_val)\n",
    "#     print(\"Omit index: \", min_index)\n",
    "#     for index, arr in enumerate(arrays):\n",
    "#         if index != min_index:\n",
    "#             chop_point = find_optimal_stop_point(min_val, arr, 100) + 1\n",
    "#             arrays[index][0] = arrays[index][0][0:chop_point]\n",
    "#             arrays[index][1] = arrays[index][1][0:chop_point]\n",
    "    \n",
    "    results_1.append(metrics.auc(arrays[0][0], arrays[0][1]))\n",
    "    results_2.append(metrics.auc(arrays[1][0], arrays[1][1]))\n",
    "    results_4.append(metrics.auc(arrays[2][0], arrays[2][1]))\n",
    "    results_5.append(metrics.auc(arrays[3][0], arrays[3][1]))\n",
    "    results_6.append(metrics.auc(arrays[4][0], arrays[4][1]))\n",
    "    results_7.append(metrics.auc(arrays[5][0], arrays[5][1]))\n",
    "    results_8.append(metrics.auc(arrays[6][0], arrays[6][1]))\n",
    "#     results_9.append(metrics.auc(arrays[7][0], arrays[7][1]))\n",
    "    \n",
    "    plt.ylabel(\"Number of Successes\")\n",
    "    plt.xlabel(\"Number of Calls\")\n",
    "    plt.plot(arrays[0][0], arrays[0][1], label='BL', linewidth=1)\n",
    "    plt.plot(arrays[1][0], arrays[1][1], label='Greedy', linewidth=1)\n",
    "    plt.plot(arrays[2][0], arrays[2][1], label='Gradient', linewidth=1)\n",
    "    plt.plot(arrays[3][0], arrays[3][1], label='Upper Bound', linewidth=1)\n",
    "    plt.plot(arrays[4][0], arrays[4][1], label='HDBScan Ratio - 1', linewidth=1)\n",
    "    plt.plot(arrays[5][0], arrays[5][1], label='HDBScan Ratio - 2', linewidth=1)\n",
    "    plt.plot(arrays[6][0], arrays[6][1], label='HDBScan Ratio - 2 - GA', linewidth=1)\n",
    "#     plt.plot(arrays[7][0], arrays[7][1], label='HDBScan No Ratio', linewidth=1)\n",
    "    plt.legend()\n",
    "    plt.savefig(str(kfold_key)+'.pdf')\n",
    "    plt.close()"
   ]
  },
  {
   "cell_type": "code",
   "execution_count": 15,
   "metadata": {},
   "outputs": [
    {
     "name": "stdout",
     "output_type": "stream",
     "text": [
      "12473953.7 15719757.2 15863561.9 24242696.2 16023165.9 13607835.6 12827474.1 nan\n"
     ]
    },
    {
     "name": "stderr",
     "output_type": "stream",
     "text": [
      "/home/shiva/.local/lib/python3.6/site-packages/numpy/core/fromnumeric.py:3373: RuntimeWarning: Mean of empty slice.\n",
      "  out=out, **kwargs)\n",
      "/home/shiva/.local/lib/python3.6/site-packages/numpy/core/_methods.py:170: RuntimeWarning: invalid value encountered in double_scalars\n",
      "  ret = ret.dtype.type(ret / rcount)\n"
     ]
    }
   ],
   "source": [
    "auc1 = np.mean(results_1)\n",
    "auc2 = np.mean(results_2)\n",
    "auc4 = np.mean(results_4)\n",
    "auc5 = np.mean(results_5)\n",
    "auc6 = np.mean(results_6)\n",
    "auc7 = np.mean(results_7) \n",
    "auc8 = np.mean(results_8)\n",
    "auc9 = np.mean(results_9)\n",
    "\n",
    "print(auc1, auc2, auc4, auc5, auc6, auc7, auc8, auc9)"
   ]
  },
  {
   "cell_type": "code",
   "execution_count": 16,
   "metadata": {},
   "outputs": [
    {
     "data": {
      "text/plain": [
       "1.260206473269177"
      ]
     },
     "execution_count": 16,
     "metadata": {},
     "output_type": "execute_result"
    }
   ],
   "source": [
    "auc2/auc1"
   ]
  },
  {
   "cell_type": "code",
   "execution_count": 17,
   "metadata": {},
   "outputs": [
    {
     "data": {
      "text/plain": [
       "1.271734871037721"
      ]
     },
     "execution_count": 17,
     "metadata": {},
     "output_type": "execute_result"
    }
   ],
   "source": [
    "auc4/auc1"
   ]
  },
  {
   "cell_type": "code",
   "execution_count": 18,
   "metadata": {},
   "outputs": [
    {
     "data": {
      "text/plain": [
       "1.9434653024245232"
      ]
     },
     "execution_count": 18,
     "metadata": {},
     "output_type": "execute_result"
    }
   ],
   "source": [
    "auc5/auc1"
   ]
  },
  {
   "cell_type": "code",
   "execution_count": 19,
   "metadata": {},
   "outputs": [
    {
     "data": {
      "text/plain": [
       "1.2845298519907125"
      ]
     },
     "execution_count": 19,
     "metadata": {},
     "output_type": "execute_result"
    }
   ],
   "source": [
    "auc6/auc1"
   ]
  },
  {
   "cell_type": "code",
   "execution_count": 20,
   "metadata": {},
   "outputs": [
    {
     "data": {
      "text/plain": [
       "1.0908999606115262"
      ]
     },
     "execution_count": 20,
     "metadata": {},
     "output_type": "execute_result"
    }
   ],
   "source": [
    "auc7/auc1"
   ]
  },
  {
   "cell_type": "code",
   "execution_count": 21,
   "metadata": {},
   "outputs": [
    {
     "data": {
      "text/plain": [
       "1.0283406855999473"
      ]
     },
     "execution_count": 21,
     "metadata": {},
     "output_type": "execute_result"
    }
   ],
   "source": [
    "auc8/auc1"
   ]
  },
  {
   "cell_type": "code",
   "execution_count": 11,
   "metadata": {},
   "outputs": [
    {
     "data": {
      "text/plain": [
       "nan"
      ]
     },
     "execution_count": 11,
     "metadata": {},
     "output_type": "execute_result"
    }
   ],
   "source": [
    "auc9/auc1"
   ]
  },
  {
   "cell_type": "code",
   "execution_count": null,
   "metadata": {},
   "outputs": [],
   "source": [
    "1.2528994284673365 greedy\n",
    "1.2698042313544649 grad\n",
    "1.929978543671836 ub\n",
    "1.289045437584245 grouped\n",
    "1.074485469120597 no grouped\n",
    "1.054012135213192 bins"
   ]
  }
 ],
 "metadata": {
  "kernelspec": {
   "display_name": "Python 3",
   "language": "python",
   "name": "python3"
  },
  "language_info": {
   "codemirror_mode": {
    "name": "ipython",
    "version": 3
   },
   "file_extension": ".py",
   "mimetype": "text/x-python",
   "name": "python",
   "nbconvert_exporter": "python",
   "pygments_lexer": "ipython3",
   "version": "3.6.9"
  }
 },
 "nbformat": 4,
 "nbformat_minor": 4
}
