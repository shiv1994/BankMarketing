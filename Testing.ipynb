{
 "cells": [
  {
   "cell_type": "code",
   "execution_count": 1,
   "metadata": {},
   "outputs": [
    {
     "name": "stderr",
     "output_type": "stream",
     "text": [
      "In /home/shiva/.local/lib/python3.6/site-packages/matplotlib/mpl-data/stylelib/_classic_test.mplstyle: \n",
      "The text.latex.preview rcparam was deprecated in Matplotlib 3.3 and will be removed two minor releases later.\n",
      "In /home/shiva/.local/lib/python3.6/site-packages/matplotlib/mpl-data/stylelib/_classic_test.mplstyle: \n",
      "The mathtext.fallback_to_cm rcparam was deprecated in Matplotlib 3.3 and will be removed two minor releases later.\n",
      "In /home/shiva/.local/lib/python3.6/site-packages/matplotlib/mpl-data/stylelib/_classic_test.mplstyle: Support for setting the 'mathtext.fallback_to_cm' rcParam is deprecated since 3.3 and will be removed two minor releases later; use 'mathtext.fallback : 'cm' instead.\n",
      "In /home/shiva/.local/lib/python3.6/site-packages/matplotlib/mpl-data/stylelib/_classic_test.mplstyle: \n",
      "The validate_bool_maybe_none function was deprecated in Matplotlib 3.3 and will be removed two minor releases later.\n",
      "In /home/shiva/.local/lib/python3.6/site-packages/matplotlib/mpl-data/stylelib/_classic_test.mplstyle: \n",
      "The savefig.jpeg_quality rcparam was deprecated in Matplotlib 3.3 and will be removed two minor releases later.\n",
      "In /home/shiva/.local/lib/python3.6/site-packages/matplotlib/mpl-data/stylelib/_classic_test.mplstyle: \n",
      "The keymap.all_axes rcparam was deprecated in Matplotlib 3.3 and will be removed two minor releases later.\n",
      "In /home/shiva/.local/lib/python3.6/site-packages/matplotlib/mpl-data/stylelib/_classic_test.mplstyle: \n",
      "The animation.avconv_path rcparam was deprecated in Matplotlib 3.3 and will be removed two minor releases later.\n",
      "In /home/shiva/.local/lib/python3.6/site-packages/matplotlib/mpl-data/stylelib/_classic_test.mplstyle: \n",
      "The animation.avconv_args rcparam was deprecated in Matplotlib 3.3 and will be removed two minor releases later.\n"
     ]
    }
   ],
   "source": [
    "# Imports\n",
    "\n",
    "import os\n",
    "import math\n",
    "import random\n",
    "import operator as op\n",
    "import numpy as np\n",
    "import pandas as pd\n",
    "import matplotlib.pyplot as plt\n",
    "import math, itertools\n",
    "import statistics\n",
    "import json\n",
    "import hdbscan\n",
    "from xgboost import XGBClassifier\n",
    "\n",
    "from sklearn.metrics import make_scorer\n",
    "from sklearn.model_selection import GridSearchCV\n",
    "from sklearn import tree, metrics\n",
    "from sklearn.model_selection import KFold\n",
    "from sklearn.preprocessing import LabelEncoder, OneHotEncoder\n",
    "from sklearn.model_selection import ShuffleSplit\n",
    "from sklearn.metrics.pairwise import euclidean_distances\n",
    "from operator import itemgetter\n",
    "from statistics import mean\n",
    "from sklearn.cluster import KMeans\n",
    "from sklearn.metrics import silhouette_score, accuracy_score\n",
    "from collections import Counter\n",
    "from matplotlib.ticker import StrMethodFormatter\n",
    "\n",
    "from scipy.spatial import ConvexHull\n",
    "\n",
    "def load_file(data_file_path):\n",
    "    data_df = pd.read_csv(data_file_path, delimiter=\";\")\n",
    "    return data_df"
   ]
  },
  {
   "cell_type": "code",
   "execution_count": 2,
   "metadata": {},
   "outputs": [
    {
     "name": "stdout",
     "output_type": "stream",
     "text": [
      "(45173, 10)\n"
     ]
    }
   ],
   "source": [
    "# Pull and filter all calls <= 20.\n",
    "max_calls = 32\n",
    "current_dir = os.getcwd()\n",
    "mkt_df = load_file(current_dir + '/bank-full.csv')\n",
    "mkt_df_filtered = mkt_df[(mkt_df['campaign']>=1) & (mkt_df['campaign']<=max_calls)]\n",
    "mkt_df_filtered = mkt_df_filtered[['job', 'marital', 'education', 'default', 'housing', 'loan', 'age', 'balance', 'campaign', 'y']]\n",
    "mkt_df_filtered_copy = mkt_df_filtered.copy(deep = True)\n",
    "print(mkt_df_filtered.shape)"
   ]
  },
  {
   "cell_type": "code",
   "execution_count": 3,
   "metadata": {},
   "outputs": [
    {
     "data": {
      "text/plain": [
       "array(['technician', 'single', 'secondary', 'no', 'yes', 'no', 44, 29, 1,\n",
       "       'no'], dtype=object)"
      ]
     },
     "execution_count": 3,
     "metadata": {},
     "output_type": "execute_result"
    }
   ],
   "source": [
    "mkt_df_filtered.to_numpy()[1]"
   ]
  },
  {
   "cell_type": "code",
   "execution_count": 4,
   "metadata": {},
   "outputs": [],
   "source": [
    "# We use the LabelEncoder from SkLearn to transform the following features.\n",
    "features_to_transform = ['job', 'marital', 'education', 'default', 'housing', 'loan', 'y']\n",
    "for feature in features_to_transform:\n",
    "    le = LabelEncoder()\n",
    "    le.fit(mkt_df_filtered[feature])\n",
    "    mkt_df_filtered[feature] = le.transform(mkt_df_filtered[feature])\n",
    "\n",
    "# Double checking .\n",
    "kf = KFold(n_splits=5, shuffle=True, random_state = 23)\n",
    "fold_data = []\n",
    "\n",
    "for train_index, test_index in kf.split(mkt_df_filtered):\n",
    "    fold_data.append((train_index, test_index))"
   ]
  },
  {
   "cell_type": "code",
   "execution_count": null,
   "metadata": {},
   "outputs": [],
   "source": [
    "# Decisoon Tree\n",
    "\n",
    "for tt_split in fold_data:\n",
    "    \n",
    "    train_index = tt_split[0]\n",
    "    test_index = tt_split[1]\n",
    "    \n",
    "    # Pull data for train test split.\n",
    "    train_df = mkt_df_filtered.iloc[train_index]\n",
    "    test_df = mkt_df_filtered.iloc[test_index]\n",
    "    \n",
    "    # Split train and test dataframes into input and output.\n",
    "#     train_y = train_df['campaign'].to_numpy()\n",
    "#     train_x = train_df.drop(columns=['campaign']).to_numpy()\n",
    "#     test_y = test_df['campaign'].to_numpy()\n",
    "#     test_x = test_df.drop(columns=['campaign']).to_numpy()\n",
    "    \n",
    "    train_y = train_df['campaign']\n",
    "    train_x = train_df.drop(columns=['campaign', 'y'])\n",
    "    test_y = test_df['campaign']\n",
    "    test_x = test_df.drop(columns=['campaign', 'y'])\n",
    "    \n",
    "#     print(test_x[0])\n",
    "#     print(type(test_x[0]))\n",
    "#     print(test_y[0])\n",
    "    \n",
    "    results_fold = []\n",
    "    \n",
    "    # Instantiate the Decision Tree Classifier.\n",
    "    model = tree.DecisionTreeClassifier(criterion= 'gini', max_depth=1, min_impurity_decrease= 5e-05)\n",
    "    model.fit(train_x, train_y)\n",
    "\n",
    "    # Obtain predictions for the test set.\n",
    "    pred = model.predict(test_x)\n",
    "\n",
    "    # Calls persons based on predications. Note the number of success and calls.\n",
    "    total_s = 0\n",
    "    total_c = 0\n",
    "    t_s = [0]\n",
    "    t_c = [0]\n",
    "    \n",
    "#     print(len(test_y))\n",
    "#     print(len(pred))\n",
    "#     print(len(test_x))\n",
    "    \n",
    "#     j = 0\n",
    "#     for index, row in enumerate(test_x):\n",
    "#         if int(pred[j]) <= test_y[j]:\n",
    "#             if row[8] == 1:\n",
    "#                 total_s += 1\n",
    "#         total_c += int(pred[j])\n",
    "#         t_s.append(total_s)\n",
    "#         t_c.append(total_c)\n",
    "#         j+= 1\n",
    "    \n",
    "    j = 0\n",
    "    for index, row in test_x.iterrows():\n",
    "        if int(pred[j]) <= test_y.iloc[j]:\n",
    "            if test_df.loc[index]['y'] == 1:\n",
    "                total_s += 1\n",
    "        total_c += int(pred[j])\n",
    "        t_s.append(total_s)\n",
    "        t_c.append(total_c)\n",
    "        j += 1\n",
    "\n",
    "    custom_score = metrics.auc(t_c, t_s)\n",
    "    results_fold.append(custom_score)\n",
    "    print(\"Custom score is: \",custom_score)\n",
    "\n",
    "    acc_score = accuracy_score(test_y, pred)*100\n",
    "    print(\"Accuracy is: \",acc_score)\n",
    "    print(\"\\n\")"
   ]
  },
  {
   "cell_type": "code",
   "execution_count": null,
   "metadata": {},
   "outputs": [],
   "source": [
    "fig, axes = plt.subplots(figsize = (100, 100))\n",
    "tree.plot_tree(model, filled = True)"
   ]
  },
  {
   "cell_type": "code",
   "execution_count": null,
   "metadata": {},
   "outputs": [],
   "source": [
    "train_x"
   ]
  },
  {
   "cell_type": "code",
   "execution_count": null,
   "metadata": {},
   "outputs": [],
   "source": [
    "plt.plot(t_c, t_s, label=\"GB\", linewidth=1)"
   ]
  },
  {
   "cell_type": "code",
   "execution_count": null,
   "metadata": {},
   "outputs": [],
   "source": [
    "# XGBoost\n",
    "\n",
    "for tt_split in fold_data:\n",
    "    \n",
    "    train_index = tt_split[0]\n",
    "    test_index = tt_split[1]\n",
    "    \n",
    "    # Pull data for train test split.\n",
    "    train_df = mkt_df_filtered.iloc[train_index]\n",
    "    test_df = mkt_df_filtered.iloc[test_index]\n",
    "    \n",
    "    # Split train and test dataframes into input and output.\n",
    "    train_y = train_df['campaign']\n",
    "    train_x = train_df.drop(columns=['campaign', 'y'])\n",
    "    test_y = test_df['campaign']\n",
    "    test_x = test_df.drop(columns=['campaign', 'y'])\n",
    "    \n",
    "    results_fold = []\n",
    "    \n",
    "    # Instantiate the Decision Tree Classifier.\n",
    "    model = XGBClassifier()\n",
    "    model.fit(train_x, train_y)\n",
    "\n",
    "    # Obtain predictions for the test set.\n",
    "    predictions = model.predict(test_x)\n",
    "\n",
    "    # Calls persons based on predications. Note the number of success and calls.\n",
    "    total_s = 0\n",
    "    total_c = 0\n",
    "    t_s = [0]\n",
    "    t_c = [0]\n",
    "    \n",
    "    j = 0\n",
    "    for index, row in test_x.iterrows():\n",
    "        if int(predictions[j]) >= test_y.iloc[j]:\n",
    "            if test_df.iloc[j]['y'] == 1:\n",
    "                total_s += 1\n",
    "        total_c += int(predictions[j])\n",
    "        t_s.append(total_s)\n",
    "        t_c.append(total_c)\n",
    "        j += 1\n",
    "\n",
    "    custom_score = metrics.auc(t_c, t_s)\n",
    "    results_fold.append(custom_score)\n",
    "    print(\"Custom score is: \",custom_score)\n",
    "\n",
    "    acc_score = accuracy_score(test_y, predictions)*100\n",
    "    print(\"Accuracy is: \",acc_score)\n",
    "    print(\"\\n\")"
   ]
  },
  {
   "cell_type": "code",
   "execution_count": null,
   "metadata": {},
   "outputs": [],
   "source": [
    "t_s[-1], t_c[-1]"
   ]
  },
  {
   "cell_type": "code",
   "execution_count": null,
   "metadata": {},
   "outputs": [],
   "source": [
    "plt.plot(t_c, t_s, label=\"GB\", linewidth=1)"
   ]
  },
  {
   "cell_type": "code",
   "execution_count": null,
   "metadata": {},
   "outputs": [],
   "source": [
    "from xgboost import plot_tree\n",
    "fig, ax = plt.subplots(figsize=(100, 100))\n",
    "plot_tree(model, ax=ax)"
   ]
  },
  {
   "cell_type": "markdown",
   "metadata": {},
   "source": [
    "### Hyper-parameter tuning!"
   ]
  },
  {
   "cell_type": "code",
   "execution_count": null,
   "metadata": {},
   "outputs": [],
   "source": [
    "y = mkt_df_filtered['campaign']\n",
    "X = mkt_df_filtered.drop(columns=['campaign', 'y'])\n",
    "\n",
    "def my_custom_score_func(y_test, y_pred):\n",
    "    total_s = 0\n",
    "    total_c = 0\n",
    "    successes = []\n",
    "    calls = []\n",
    "    loc = 0\n",
    "    for df_ref in y_test.index:\n",
    "        actual_value = mkt_df_filtered.loc[df_ref]\n",
    "        if y_pred[loc] >= y_test.iloc[loc]:\n",
    "            if actual_value['y'] == 1:\n",
    "                total_s += 1\n",
    "        total_c += y_pred[loc]\n",
    "        successes.append(total_s)\n",
    "        calls.append(total_c)\n",
    "        loc += 1\n",
    "#     score = metrics.auc(calls, successes)\n",
    "    score = total_s/total_c\n",
    "    print(score)\n",
    "    return score\n",
    "\n",
    "custom_score = make_scorer(my_custom_score_func, greater_is_better=True)\n",
    "\n",
    "model = tree.DecisionTreeClassifier()\n",
    "\n",
    "dt_opt = GridSearchCV(model,\n",
    "                    scoring=custom_score,\n",
    "                    cv=5,\n",
    "                    param_grid={\n",
    "                               \"criterion\": ['gini', 'entropy'],\n",
    "                               \"max_depth\": [i for i in range(1, 11)],\n",
    "                               \"min_impurity_decrease\": [0.00005,0.0001,0.0002,0.0005,0.001,0.0015,0.002,0.005,0.01]\n",
    "                              }\n",
    "    )\n",
    "\n",
    "dt_opt.fit(X, y)\n",
    "\n",
    "print(\"Best Parameters: \")\n",
    "print(dt_opt.best_params_)\n",
    "print(dt_opt.best_score_)"
   ]
  },
  {
   "cell_type": "markdown",
   "metadata": {},
   "source": [
    "Best Parameters were: \n",
    "{'criterion': 'entropy', 'max_depth': 24, 'min_impurity_decrease': 5e-05}\n",
    "with area being -> 6567663.6\n",
    "N.B. This was when we utilized the full range of calls for the output variable .... 1-32.\n",
    "\n",
    "\n",
    "Using a new scoring method:\n",
    "{'criterion': 'gini', 'max_depth': 1, 'min_impurity_decrease': 5e-05}\n",
    "0.11753382618818912\n",
    "\n",
    "Trying back old method of accuracy:\n"
   ]
  },
  {
   "cell_type": "code",
   "execution_count": null,
   "metadata": {},
   "outputs": [],
   "source": [
    "# For obtaining the best hyper-parameters.\n",
    "print(mkt_df_filtered.head(10))\n",
    "y = mkt_df_filtered['campaign']\n",
    "X = mkt_df_filtered.drop(columns=['campaign', 'y'])\n",
    "\n",
    "# Score function in this case would be essentially the result of the Greedy Approach.\n",
    "def my_custom_score_func(y_test, y_pred):\n",
    "    total_s = 0\n",
    "    total_c = 0\n",
    "    successes = []\n",
    "    calls = []\n",
    "    loc = 0\n",
    "    for df_ref in y_test.index:\n",
    "        actual_value = mkt_df_filtered.loc[df_ref]\n",
    "        if y_pred[loc] <= y_test.iloc[loc]:\n",
    "            if actual_value['y'] == 1:\n",
    "                total_s += 1\n",
    "        total_c += y_pred[loc]\n",
    "        successes.append(total_s)\n",
    "        calls.append(total_c)\n",
    "        loc += 1\n",
    "#     score = metrics.auc(calls, successes)\n",
    "    score = total_s/total_c\n",
    "    return score\n",
    "\n",
    "custom_score = make_scorer(my_custom_score_func, greater_is_better=True)\n",
    "\n",
    "model = XGBClassifier()\n",
    "\n",
    "dt_opt = GridSearchCV(model,\n",
    "                   scoring=custom_score,\n",
    "                   cv=5,\n",
    "                   param_grid={\n",
    "                        'eta': [round((0.1 * i), 2) for i in range(1,11)],\n",
    "                        'subsample': [round((0.1 * i), 2) for i in range(5,11)],\n",
    "                        'max_depth': [i for i in range(2, 11, 1)]\n",
    "                   })          \n",
    "\n",
    "dt_opt.fit(X, y)\n",
    "\n",
    "print(\"Best Parameters: \")\n",
    "print(dt_opt.best_params_)\n",
    "print(dt_opt.best_score_)"
   ]
  },
  {
   "cell_type": "code",
   "execution_count": null,
   "metadata": {},
   "outputs": [],
   "source": [
    "[round((0.1 * i), 2) for i in range(1,11)]"
   ]
  },
  {
   "cell_type": "markdown",
   "metadata": {},
   "source": [
    "### Finding the best age groupings! "
   ]
  },
  {
   "cell_type": "code",
   "execution_count": null,
   "metadata": {},
   "outputs": [],
   "source": [
    "print(mkt_df_filtered.head(10))\n",
    "y = mkt_df_filtered['y']\n",
    "X = np.array(mkt_df_filtered['age']).reshape(-1, 1)"
   ]
  },
  {
   "cell_type": "code",
   "execution_count": null,
   "metadata": {},
   "outputs": [],
   "source": [
    "model = tree.DecisionTreeClassifier(max_depth = 5)\n",
    "model.fit(X, y)\n",
    "\n",
    "fig, axes = plt.subplots(figsize = (100, 100))\n",
    "tree.plot_tree(model, filled = True)"
   ]
  },
  {
   "cell_type": "code",
   "execution_count": null,
   "metadata": {},
   "outputs": [],
   "source": [
    "# age >= 18 & age <= 30\n",
    "tup = (18, 30)\n",
    "age_query_str = \"age >= {0} & age <= {1}\".format(tup[0], tup[1])\n",
    "print(age_query_str)"
   ]
  },
  {
   "cell_type": "code",
   "execution_count": null,
   "metadata": {},
   "outputs": [],
   "source": [
    "sum(mkt_df_filtered['campaign'])"
   ]
  },
  {
   "cell_type": "code",
   "execution_count": null,
   "metadata": {},
   "outputs": [],
   "source": [
    "succ = [1,2,2,2,3,4,5,6,7]\n",
    "calls = [1,3,5,7,12,13,23,45,46,47,48,50]"
   ]
  },
  {
   "cell_type": "code",
   "execution_count": null,
   "metadata": {},
   "outputs": [],
   "source": [
    "def stop_at_call_limit(call_limit, calls, succ):\n",
    "    for index, call in enumerate(calls):\n",
    "        if call > call_limit:\n",
    "            break\n",
    "    print(index)\n",
    "    print(calls[:index])\n",
    "    print(succ[:index])\n",
    "    return (calls[:index], succ[:index])"
   ]
  },
  {
   "cell_type": "code",
   "execution_count": null,
   "metadata": {},
   "outputs": [],
   "source": [
    "cut_at_all(20, calls, succ)"
   ]
  },
  {
   "cell_type": "code",
   "execution_count": null,
   "metadata": {},
   "outputs": [],
   "source": [
    "calls[:6]"
   ]
  },
  {
   "cell_type": "code",
   "execution_count": null,
   "metadata": {},
   "outputs": [],
   "source": [
    "calls[6]"
   ]
  },
  {
   "cell_type": "markdown",
   "metadata": {},
   "source": [
    "### Attempt at Fixing Successes and Calls"
   ]
  },
  {
   "cell_type": "code",
   "execution_count": 7,
   "metadata": {},
   "outputs": [
    {
     "name": "stdout",
     "output_type": "stream",
     "text": [
      "Fold number:  1\n",
      "Custom score for DT is:  2239456.5\n",
      "             job   marital  education default housing loan  age  balance  \\\n",
      "0     management   married   tertiary      no     yes   no   58     2143   \n",
      "1     technician    single  secondary      no     yes   no   44       29   \n",
      "2   entrepreneur   married  secondary      no     yes  yes   33        2   \n",
      "4        unknown    single    unknown      no      no   no   33        1   \n",
      "5     management   married   tertiary      no     yes   no   35      231   \n",
      "7   entrepreneur  divorced   tertiary     yes     yes   no   42        2   \n",
      "10        admin.  divorced  secondary      no     yes   no   41      270   \n",
      "11        admin.    single  secondary      no     yes   no   29      390   \n",
      "12    technician   married  secondary      no     yes   no   53        6   \n",
      "13    technician   married    unknown      no     yes   no   58       71   \n",
      "\n",
      "    campaign   y  \n",
      "0          1  no  \n",
      "1          1  no  \n",
      "2          1  no  \n",
      "4          1  no  \n",
      "5          1  no  \n",
      "7          1  no  \n",
      "10         1  no  \n",
      "11         1  no  \n",
      "12         1  no  \n",
      "13         1  no  \n",
      "Call all Customers Approach\n",
      "Greedy Approach\n",
      "Custom score for GC is:  4454593.0\n",
      "\n",
      "\n"
     ]
    },
    {
     "data": {
      "image/png": "[encoded data removed]",
      "text/plain": [
       "<Figure size 432x288 with 1 Axes>"
      ]
     },
     "metadata": {
      "needs_background": "light"
     },
     "output_type": "display_data"
    }
   ],
   "source": [
    "age_ranges = [(18, 60), (61, 100)]\n",
    "balance_ranges = [(-10000, 798), (799, 105000)]\n",
    "fold_num = 1\n",
    "\n",
    "for tt_split in fold_data:\n",
    "    \n",
    "    print(\"Fold number: \", fold_num)\n",
    "    \n",
    "    train_index = tt_split[0]\n",
    "    test_index = tt_split[1]\n",
    "    \n",
    "    # Pull data for train test split.\n",
    "    train_df = mkt_df_filtered.iloc[train_index]\n",
    "    test_df = mkt_df_filtered.iloc[test_index]\n",
    "    \n",
    "    train_y = train_df['campaign']\n",
    "    train_x = train_df.drop(columns=['campaign', 'y'])\n",
    "    test_y = test_df['campaign']\n",
    "    test_x = test_df.drop(columns=['campaign', 'y'])\n",
    "    \n",
    "    results_fold = []\n",
    "    \n",
    "    # Instantiate the Decision Tree Classifier.\n",
    "    model = tree.DecisionTreeClassifier()\n",
    "    model = XGBClassifier()\n",
    "    model.fit(train_x, train_y)\n",
    "\n",
    "    # Obtain predictions for the test set.\n",
    "    predictions = model.predict(test_x)\n",
    "\n",
    "    # Calls persons based on predications. Note the number of success and calls.\n",
    "    \n",
    "    call_attempts = []\n",
    "    \n",
    "    j = 0\n",
    "    for loc, pred in enumerate(predictions):\n",
    "        call_attempts.append((pred, loc))\n",
    "        \n",
    "    \n",
    "    sorted_call_attempts = sorted(call_attempts, key = lambda tup:tup[0])\n",
    "#     sorted_call_attempts = call_attempts\n",
    "    \n",
    "    total_s = 0\n",
    "    total_c = 0\n",
    "    t_s = [0]\n",
    "    t_c = [0]\n",
    "    \n",
    "    for el in sorted_call_attempts:\n",
    "        loc = el[1]\n",
    "        pred_calls = int(el[0])\n",
    "        row = test_df.iloc[loc]\n",
    "        if pred_calls >= row['campaign']:\n",
    "            if row['y'] == 1:\n",
    "                total_s += 1\n",
    "        total_c += pred_calls\n",
    "        t_s.append(total_s)\n",
    "        t_c.append(total_c)\n",
    "        \n",
    "    custom_score = metrics.auc(t_c, t_s)\n",
    "    results_fold.append(custom_score)\n",
    "    print(\"Custom score for DT is: \", custom_score)\n",
    "\n",
    "#     acc_score = accuracy_score(test_y, predictions)*100\n",
    "#     print(\"Accuracy is: \",acc_score)  \n",
    "\n",
    "    train_df = mkt_df_filtered_copy.iloc[train_index]\n",
    "    test_df = mkt_df_filtered_copy.iloc[test_index]\n",
    "\n",
    "    print(train_df.head(10))\n",
    "    \n",
    "    combs_to_consider, fs_pick = construct_feature_combs(train_df, test_df, 0, age_ranges, balance_ranges, max_calls)\n",
    "    results_p1, num_calls, p1_s_c = call_everyone(test_df)\n",
    "    results_p2, p2_s_c = greedy_approach(combs_to_consider)\n",
    "    \n",
    "    res = get_succ_calls_score_limited(p2_s_c[0], p2_s_c[1], t_c[-1])\n",
    "    print(\"Custom score for GC is: \", res[2])\n",
    "    \n",
    "    plt.plot(t_c, t_s, label=\"DT\", linewidth=1)\n",
    "    plt.plot(res[0], res[1], label=\"GC\", linewidth=1)\n",
    "    \n",
    "    print(\"\\n\")\n",
    "    \n",
    "    fold_num += 1\n",
    "    break"
   ]
  },
  {
   "cell_type": "code",
   "execution_count": 8,
   "metadata": {},
   "outputs": [
    {
     "name": "stdout",
     "output_type": "stream",
     "text": [
      "Custom score for GC is:  2550054.5\n"
     ]
    },
    {
     "data": {
      "text/plain": [
       "[<matplotlib.lines.Line2D at 0x7f2e5f409518>]"
      ]
     },
     "execution_count": 8,
     "metadata": {},
     "output_type": "execute_result"
    },
    {
     "data": {
      "image/png": "[encoded data removed]",
      "text/plain": [
       "<Figure size 432x288 with 1 Axes>"
      ]
     },
     "metadata": {
      "needs_background": "light"
     },
     "output_type": "display_data"
    }
   ],
   "source": [
    "res = get_succ_calls_score_limited(p1_s_c[0], p1_s_c[1], t_c[-1])\n",
    "print(\"Custom score for GC is: \", res[2])\n",
    "    \n",
    "plt.plot(t_c, t_s, label=\"DT\", linewidth=1)\n",
    "plt.plot(res[0], res[1], label=\"GC\", linewidth=1)"
   ]
  },
  {
   "cell_type": "code",
   "execution_count": 6,
   "metadata": {},
   "outputs": [],
   "source": [
    "from ipynb.fs.defs.current_methods import *"
   ]
  },
  {
   "cell_type": "code",
   "execution_count": null,
   "metadata": {},
   "outputs": [],
   "source": [
    "# Decisoon Tree - Using result to rank how calls are made.\n",
    "fold_num = 1\n",
    "\n",
    "for tt_split in fold_data:\n",
    "    \n",
    "    print(\"Fold number: \", fold_num)\n",
    "    \n",
    "    train_index = tt_split[0]\n",
    "    test_index = tt_split[1]\n",
    "    \n",
    "    # Pull data for train test split.\n",
    "    train_df = mkt_df_filtered.iloc[train_index]\n",
    "    test_df = mkt_df_filtered.iloc[test_index]\n",
    "    \n",
    "    train_y = train_df['campaign']\n",
    "    train_x = train_df.drop(columns=['campaign', 'y'])\n",
    "    test_y = test_df['campaign']\n",
    "    test_x = test_df.drop(columns=['campaign', 'y'])\n",
    "    \n",
    "    results_fold = []\n",
    "    \n",
    "    # Instantiate the Decision Tree Classifier.\n",
    "    model = tree.DecisionTreeClassifier()\n",
    "#     model = XGBClassifier()\n",
    "    model.fit(train_x, train_y)\n",
    "\n",
    "    # Obtain predictions for the test set.\n",
    "    predictions = model.predict(test_x)\n",
    "\n",
    "    # Calls persons based on predications. Note the number of success and calls.\n",
    "    \n",
    "    call_attempts = []\n",
    "    \n",
    "    j = 0\n",
    "    for loc, pred in enumerate(predictions):\n",
    "        call_attempts.append((pred, loc))\n",
    "        \n",
    "    \n",
    "    sorted_call_attempts = sorted(call_attempts, key = lambda tup:tup[0])\n",
    "    \n",
    "    total_s = 0\n",
    "    total_c = 0\n",
    "    t_s = [0]\n",
    "    t_c = [0]\n",
    "    \n",
    "    for el in sorted_call_attempts:\n",
    "        loc = el[1]\n",
    "        row = test_df.iloc[loc]\n",
    "        if row['y'] == 1:\n",
    "            total_s += 1\n",
    "        total_c += int(row['campaign'])\n",
    "        t_s.append(total_s)\n",
    "        t_c.append(total_c)\n",
    "        \n",
    "    custom_score = metrics.auc(t_c, t_s)\n",
    "    results_fold.append(custom_score)\n",
    "    print(\"Custom score is: \",custom_score)\n",
    "\n",
    "    acc_score = accuracy_score(test_y, predictions)*100\n",
    "    print(\"Accuracy is: \",acc_score)\n",
    "    \n",
    "    plt.plot(t_c, t_s, label=\"DT\", linewidth=1)\n",
    "    \n",
    "    print(\"\\n\")\n",
    "    \n",
    "        \n",
    "    fold_num += 1"
   ]
  },
  {
   "cell_type": "code",
   "execution_count": null,
   "metadata": {},
   "outputs": [],
   "source": []
  }
 ],
 "metadata": {
  "kernelspec": {
   "display_name": "Python 3",
   "language": "python",
   "name": "python3"
  },
  "language_info": {
   "codemirror_mode": {
    "name": "ipython",
    "version": 3
   },
   "file_extension": ".py",
   "mimetype": "text/x-python",
   "name": "python",
   "nbconvert_exporter": "python",
   "pygments_lexer": "ipython3",
   "version": "3.6.9"
  }
 },
 "nbformat": 4,
 "nbformat_minor": 4
}
