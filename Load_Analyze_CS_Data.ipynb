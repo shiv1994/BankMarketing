{
 "cells": [
  {
   "cell_type": "code",
   "execution_count": 2,
   "metadata": {},
   "outputs": [],
   "source": [
    "import pickle, os"
   ]
  },
  {
   "cell_type": "code",
   "execution_count": 3,
   "metadata": {},
   "outputs": [],
   "source": [
    "folder_name = '28-09-2020_17-27'\n",
    "test_name = 'old'\n",
    "\n",
    "dir = os.getcwd() + '/Plots/' + folder_name + '/' + test_name + '/cs_data.json'\n",
    "filehandler = open(dir, 'rb')\n",
    "dt = pickle.load(filehandler)"
   ]
  },
  {
   "cell_type": "code",
   "execution_count": 4,
   "metadata": {},
   "outputs": [
    {
     "data": {
      "text/plain": [
       "dict_keys([1, 2, 3, 4, 5])"
      ]
     },
     "execution_count": 4,
     "metadata": {},
     "output_type": "execute_result"
    }
   ],
   "source": [
    "dt.keys()"
   ]
  },
  {
   "cell_type": "code",
   "execution_count": 44,
   "metadata": {},
   "outputs": [
    {
     "name": "stdout",
     "output_type": "stream",
     "text": [
      "512\n"
     ]
    }
   ],
   "source": [
    "all_cs = list(dt[3]['GC'].keys())\n",
    "print(len(all_cs))"
   ]
  },
  {
   "cell_type": "code",
   "execution_count": 41,
   "metadata": {},
   "outputs": [],
   "source": [
    "segment = dt[3]['GC'][all_cs[3]]"
   ]
  },
  {
   "cell_type": "code",
   "execution_count": 42,
   "metadata": {},
   "outputs": [
    {
     "data": {
      "text/plain": [
       "{'max_loc': 0,\n",
       " 'best_rate': 0,\n",
       " 'overall_rate': 0.5,\n",
       " 'n_rows': 1,\n",
       " 'results': [{'succ': 0, 'total_calls': 1, 'expected': 0.0},\n",
       "  {'succ': 1, 'total_calls': 2, 'expected': 0.5},\n",
       "  {'succ': 1, 'total_calls': 2, 'expected': 0.5},\n",
       "  {'succ': 1, 'total_calls': 2, 'expected': 0.5},\n",
       "  {'succ': 1, 'total_calls': 2, 'expected': 0.5},\n",
       "  {'succ': 1, 'total_calls': 2, 'expected': 0.5},\n",
       "  {'succ': 1, 'total_calls': 2, 'expected': 0.5},\n",
       "  {'succ': 1, 'total_calls': 2, 'expected': 0.5},\n",
       "  {'succ': 1, 'total_calls': 2, 'expected': 0.5},\n",
       "  {'succ': 1, 'total_calls': 2, 'expected': 0.5},\n",
       "  {'succ': 1, 'total_calls': 2, 'expected': 0.5},\n",
       "  {'succ': 1, 'total_calls': 2, 'expected': 0.5},\n",
       "  {'succ': 1, 'total_calls': 2, 'expected': 0.5},\n",
       "  {'succ': 1, 'total_calls': 2, 'expected': 0.5},\n",
       "  {'succ': 1, 'total_calls': 2, 'expected': 0.5},\n",
       "  {'succ': 1, 'total_calls': 2, 'expected': 0.5},\n",
       "  {'succ': 1, 'total_calls': 2, 'expected': 0.5},\n",
       "  {'succ': 1, 'total_calls': 2, 'expected': 0.5},\n",
       "  {'succ': 1, 'total_calls': 2, 'expected': 0.5},\n",
       "  {'succ': 1, 'total_calls': 2, 'expected': 0.5},\n",
       "  {'succ': 1, 'total_calls': 2, 'expected': 0.5},\n",
       "  {'succ': 1, 'total_calls': 2, 'expected': 0.5},\n",
       "  {'succ': 1, 'total_calls': 2, 'expected': 0.5},\n",
       "  {'succ': 1, 'total_calls': 2, 'expected': 0.5},\n",
       "  {'succ': 1, 'total_calls': 2, 'expected': 0.5},\n",
       "  {'succ': 1, 'total_calls': 2, 'expected': 0.5},\n",
       "  {'succ': 1, 'total_calls': 2, 'expected': 0.5},\n",
       "  {'succ': 1, 'total_calls': 2, 'expected': 0.5},\n",
       "  {'succ': 1, 'total_calls': 2, 'expected': 0.5},\n",
       "  {'succ': 1, 'total_calls': 2, 'expected': 0.5},\n",
       "  {'succ': 1, 'total_calls': 2, 'expected': 0.5},\n",
       "  {'succ': 1, 'total_calls': 2, 'expected': 0.5},\n",
       "  {'succ': 1, 'total_calls': 2, 'expected': 0.5},\n",
       "  {'succ': 1, 'total_calls': 2, 'expected': 0.5}],\n",
       " 'fs_customers': Empty DataFrame\n",
       " Columns: [job, marital, education, default, housing, loan, age, balance, campaign, y]\n",
       " Index: []}"
      ]
     },
     "execution_count": 42,
     "metadata": {},
     "output_type": "execute_result"
    }
   ],
   "source": [
    "segment"
   ]
  },
  {
   "cell_type": "code",
   "execution_count": 47,
   "metadata": {},
   "outputs": [
    {
     "data": {
      "image/png": "[encoded data removed]",
      "text/plain": [
       "<Figure size 432x288 with 1 Axes>"
      ]
     },
     "metadata": {
      "needs_background": "light"
     },
     "output_type": "display_data"
    }
   ],
   "source": [
    "import matplotlib.pyplot as plt\n",
    "\n",
    "plt.ylabel(\"Success per Call Ratio\")\n",
    "plt.xlabel(\"Call Number\")\n",
    "calls = [i for i in range(1,35)]\n",
    "ratios = [point['expected'] for point in segment['results']]\n",
    "plt.plot(calls, ratios, label='Test', linewidth=1.5, color = 'blue')\n",
    "plt.grid(True)\n",
    "plt.show()"
   ]
  },
  {
   "cell_type": "code",
   "execution_count": 49,
   "metadata": {},
   "outputs": [],
   "source": [
    "max_calls = -1\n",
    "max_key = None\n",
    "for key in all_cs:\n",
    "    segment = dt[3]['GC'][key]['results']\n",
    "    if segment[-1]['total_calls'] > max_calls:\n",
    "        max_calls = segment[-1]['total_calls']\n",
    "        max_key = key"
   ]
  },
  {
   "cell_type": "code",
   "execution_count": 50,
   "metadata": {},
   "outputs": [
    {
     "data": {
      "text/plain": [
       "7961"
      ]
     },
     "execution_count": 50,
     "metadata": {},
     "output_type": "execute_result"
    }
   ],
   "source": [
    "max_calls"
   ]
  },
  {
   "cell_type": "code",
   "execution_count": 51,
   "metadata": {},
   "outputs": [
    {
     "data": {
      "text/plain": [
       "(('secondary', 'primary'),\n",
       " ('unemployed',\n",
       "  'admin.',\n",
       "  'management',\n",
       "  'self-employed',\n",
       "  'technician',\n",
       "  'unknown',\n",
       "  'services',\n",
       "  'housemaid',\n",
       "  'blue-collar',\n",
       "  'entrepreneur'),\n",
       " ('married', 'divorced'),\n",
       " ('no',),\n",
       " ('no',),\n",
       " ('yes',),\n",
       " 'balance >= -10000 & balance <= 450',\n",
       " 'age >= 31 & age <= 47')"
      ]
     },
     "execution_count": 51,
     "metadata": {},
     "output_type": "execute_result"
    }
   ],
   "source": [
    "max_key"
   ]
  },
  {
   "cell_type": "code",
   "execution_count": 55,
   "metadata": {},
   "outputs": [
    {
     "data": {
      "image/png": "[encoded data removed]",
      "text/plain": [
       "<Figure size 432x288 with 1 Axes>"
      ]
     },
     "metadata": {
      "needs_background": "light"
     },
     "output_type": "display_data"
    }
   ],
   "source": [
    "import matplotlib.pyplot as plt\n",
    "\n",
    "plt.ylabel(\"Successes\")\n",
    "plt.xlabel(\"Calls\")\n",
    "calls = [point['succ'] for point in dt[3]['GC'][max_key]['results']]\n",
    "succ = [point['total_calls'] for point in dt[3]['GC'][max_key]['results']]\n",
    "plt.plot(calls, succ, label='Test', linewidth=1.5, color = 'blue')\n",
    "plt.grid(True)\n",
    "plt.show()"
   ]
  },
  {
   "cell_type": "code",
   "execution_count": null,
   "metadata": {},
   "outputs": [],
   "source": []
  }
 ],
 "metadata": {
  "kernelspec": {
   "display_name": "Python 3",
   "language": "python",
   "name": "python3"
  },
  "language_info": {
   "codemirror_mode": {
    "name": "ipython",
    "version": 3
   },
   "file_extension": ".py",
   "mimetype": "text/x-python",
   "name": "python",
   "nbconvert_exporter": "python",
   "pygments_lexer": "ipython3",
   "version": "3.6.9"
  }
 },
 "nbformat": 4,
 "nbformat_minor": 4
}
