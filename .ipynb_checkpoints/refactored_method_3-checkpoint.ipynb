{
 "cells": [
  {
   "cell_type": "code",
   "execution_count": 1,
   "metadata": {},
   "outputs": [],
   "source": [
    "import os\n",
    "import math\n",
    "import random\n",
    "import operator\n",
    "import numpy as np\n",
    "import pandas as pd\n",
    "\n",
    "import matplotlib\n",
    "import matplotlib.pyplot as plt\n",
    "\n",
    "import math, itertools\n",
    "\n",
    "from sklearn.model_selection import KFold\n",
    "from sklearn.preprocessing import LabelEncoder\n",
    "from sklearn.model_selection import train_test_split\n",
    "from operator import itemgetter"
   ]
  },
  {
   "cell_type": "code",
   "execution_count": 2,
   "metadata": {},
   "outputs": [],
   "source": [
    "# Helper Functions ...\n",
    "\n",
    "def load_file(data_file_path):\n",
    "    data_df = pd.read_csv(data_file_path, delimiter=\";\")\n",
    "    return data_df\n",
    "\n",
    "\n",
    "def compute_reward_individual(num_calls, result, cost_per_call = 1):\n",
    "    if result == \"yes\":\n",
    "        return (21 - (cost_per_call * num_calls))\n",
    "    elif result == \"no\":\n",
    "        return (-1 * (cost_per_call * num_calls))\n",
    "    \n",
    "\n",
    "def compute_y_position_label(y_val):\n",
    "    if y_val >= 0.0:\n",
    "        return 'bottom'\n",
    "    else:\n",
    "        return 'top'\n",
    "    \n",
    "\n",
    "def div(a,b):\n",
    "    if int(b) == 0:\n",
    "        return 0.0\n",
    "    else:\n",
    "        return a/b\n",
    "        \n",
    "\n",
    "def plot_graph(results, key, bar_plot, digregard_x_axis):\n",
    "    x = [i for i in range(1,len(results)+1)]\n",
    "    y = [item['expected'] for item in results]\n",
    "    style = dict(size=8, color='red')\n",
    "    new_x = []\n",
    "    if digregard_x_axis:\n",
    "        for i in range(1, len(x)+1):\n",
    "            new_x.append(i)\n",
    "    else:\n",
    "        new_x = x\n",
    "    fig, ax = plt.subplots(figsize = (14, 6))\n",
    "    if bar_plot:\n",
    "        ax.bar(new_x, y, 0.75)\n",
    "    else:\n",
    "        ax.plot(x, y)\n",
    "    if digregard_x_axis:\n",
    "        for i in range(1, len(x)+1):\n",
    "            ax.text(i, y[i-1], x[i-1], ha='center', verticalalignment=compute_y_position_label(y[i-1]), **style)\n",
    "        ax.axes.get_xaxis().set_visible(False)\n",
    "    else:\n",
    "        for i in range(1, len(x)+1):\n",
    "            ax.text(x[i-1], y[i-1], str(round(y[i-1],2)), ha='center', verticalalignment=compute_y_position_label(y[i-1]), **style)\n",
    "    # Setting title and labels.\n",
    "    ax.set(xlabel=str(key), ylabel='Expected Reward')\n",
    "    plt.axhline(y=0, color =\"black\")\n",
    "    plt.xticks(np.arange(min(new_x), max(new_x)+1, 1.0))\n",
    "    plt.tight_layout()\n",
    "    plt.show()\n",
    "    \n",
    "\n",
    "def plot_graph_balance(x, y, key, step):\n",
    "    style = dict(size=8, color='black')\n",
    "    fig, ax = plt.subplots(figsize = (14, 6))\n",
    "    # plt.xticks(np.arange(len(x)), x, rotation=75)\n",
    "    # ax.tick_params(axis='x', which='major', pad=20)\n",
    "    ax.bar(x, y, 0.75)\n",
    "    # Setting title and labels.\n",
    "    title = \"Expected reward vs \" +  str(key)\n",
    "    ax.set(xlabel= \"Average yearly balance\", ylabel='Expected Reward', title=title)\n",
    "    # plt.axvline(x=0, color =\"black\")\n",
    "    plt.axhline(y=0, color =\"black\")\n",
    "    # ax.grid()\n",
    "    plt.tight_layout()\n",
    "    tick_labels = ['-ve', '-ve', '-ve']\n",
    "    for i in range (1, len(x)+1):\n",
    "        tick_labels.append(str((i-1)*step) +'-' + str(i * step))\n",
    "    ax.set_xticklabels(tick_labels ,rotation='vertical')\n",
    "    plt.show()\n",
    "\n",
    "\n",
    "def analyze_results(reward_values_list_sorted):\n",
    "    num_pos = 0\n",
    "    num_neg = 0\n",
    "    num_pos_avg = 0.0\n",
    "    num_neg_avg = 0.0\n",
    "    for item in reward_values_list_sorted:\n",
    "        ref = item[1]\n",
    "        if ref['expected'] >= 0.0:\n",
    "            num_pos += 1\n",
    "            num_pos_avg += ref['expected']\n",
    "        else:\n",
    "            num_neg += 1\n",
    "            num_neg_avg += ref['expected']\n",
    "    print(\"# Positive: \", num_pos)\n",
    "    print(\"# Negative:\", num_neg)\n",
    "    print(\"Pos - Avg. Expected:\", div(num_pos_avg,num_pos))\n",
    "    print(\"Neg - Avg. Expected:\", div(num_neg_avg,num_neg))\n",
    "    \n",
    "    \n",
    "def powerset(iterable):\n",
    "    \"powerset([1,2,3]) --> () (1,) (2,) (3,) (1,2) (1,3) (2,3) (1,2,3)\"\n",
    "    s = iterable\n",
    "    return itertools.chain.from_iterable(combinations(s, r) for r in range(len(s)+1))\n",
    "\n",
    "\n",
    "def construct_dict(feature_comb):\n",
    "    new_dict = {}\n",
    "    new_dict['education'] = feature_comb[0]\n",
    "    new_dict['job'] = feature_comb[2]\n",
    "    new_dict['marital'] = feature_comb[1]\n",
    "    new_dict['default'] = feature_comb[3]\n",
    "    new_dict['loan'] = feature_comb[4]\n",
    "    new_dict['housing'] = feature_comb[5]\n",
    "    return new_dict\n",
    "\n",
    "\n",
    "def is_all_zero(arr):\n",
    "    for item in arr:\n",
    "        if item != 0.0:\n",
    "            return False\n",
    "    return True\n",
    "\n",
    "\n",
    "def find_max_min_locs_vals(arr):\n",
    "    my_list = []\n",
    "    for item in arr:\n",
    "        my_list.append(item['expected'])\n",
    "    max_value = max(my_list)\n",
    "    max_index = my_list.index(max_value)\n",
    "    min_value = min(my_list)\n",
    "    min_index = my_list.index(min_value)\n",
    "    return (max_value, max_index, min_value, min_index)"
   ]
  },
  {
   "cell_type": "code",
   "execution_count": 9,
   "metadata": {},
   "outputs": [],
   "source": [
    "# This function takes the data corresponding to a feature set and computes the expected values for calls\n",
    "# ranging from 1 ..  num_calls.\n",
    "def compute_expected_reward_feature_set(fs_df, no_calls):\n",
    "    expected_values_calls = []\n",
    "    for i in range(0, no_calls):\n",
    "        expected_values_calls.append({'value':0.0, 'count':0, 'expected':0.0, 'opt_expected':0.0})\n",
    "    for index, row in fs_df.iterrows():\n",
    "        expected_values_calls[row['campaign']-1]['value'] += compute_reward_individual(row['campaign'], row['y'])\n",
    "        expected_values_calls[row['campaign']-1]['count'] += 1\n",
    "    for i in range(0, no_calls):\n",
    "        expected_values_calls[i]['expected'] = div(expected_values_calls[i]['value'], expected_values_calls[i]['count'])\n",
    "#         print(expected_values_calls[i])\n",
    "    return expected_values_calls\n",
    "\n",
    "\n",
    "def compute_expected_reward_feature_set_new(fs_df, no_calls_considered):\n",
    "    expected_values_calls = []\n",
    "    len_df = len(fs_df)\n",
    "    # Display feature set dats with small number of rows.\n",
    "#     if len_df <=35:\n",
    "#         for index, row in fs_df.iterrows():\n",
    "#             print(row['y'], row['campaign'])\n",
    "#     print(\"Number of persons:\", len_df)\n",
    "    for i in range(1, no_calls_considered + 1):\n",
    "        expected_values_calls.append({'neg_value':0.0, 'pos_value':0.0, 'count':0, 'expected':0.0})\n",
    "        for index, row in fs_df.iterrows():\n",
    "            no_calls = row['campaign']\n",
    "            if no_calls <= i:\n",
    "                if row['y'] == \"yes\":\n",
    "                    expected_values_calls[i-1]['pos_value'] += ((no_calls_considered+1) - no_calls)\n",
    "                else:\n",
    "                    expected_values_calls[i-1]['neg_value'] += (-no_calls)\n",
    "#             else:\n",
    "#                 expected_values_calls[i-1]['neg_value'] += (-i)\n",
    "                expected_values_calls[i-1]['count'] += no_calls\n",
    "    for loc, item in enumerate(expected_values_calls):\n",
    "        expected_values_calls[loc]['expected'] = (expected_values_calls[loc]['pos_value'] + expected_values_calls[loc]['neg_value'])/len_df\n",
    "    return expected_values_calls\n",
    "\n",
    "\n",
    "def compute_optimal_call_no(results):\n",
    "    max_loc = max(range(len(results)), key=lambda index: results[index]['expected'])\n",
    "    if results[max_loc]['expected'] < 0.0:\n",
    "        return -1\n",
    "    else:\n",
    "        return max_loc\n",
    "\n",
    "\n",
    "def compute_gradient(results, max_loc):\n",
    "    # This function computes the gradient from the origin to the maxx call number. \n",
    "    # This gradient will be used to influence who to call first.\n",
    "    x_1 = 1\n",
    "    y_1 = results[0]['expected']\n",
    "    x_2 = max_loc + 1\n",
    "    y_2 = results[max_loc]['expected']\n",
    "    return div((y_2 - y_1),(x_2 - x_1))\n",
    "\n",
    "\n",
    "def compute_success_per_call_made(df):\n",
    "    num_succ = 0\n",
    "    num_calls = 0\n",
    "    for index, row in df.iterrows():\n",
    "        if row['y'] == \"yes\":\n",
    "            num_succ += 1\n",
    "        num_calls += row['campaign']\n",
    "    return (num_calls/num_succ)\n",
    "\n",
    "\n",
    "# Given a dictionary of what attributes comprise a feature set, we can get all rows corresponding to this feature set.\n",
    "def extract_rows_feature_set(fs_df, feature_labels = {'education':['tertiary', 'unknown'], \n",
    "                                                      'job':['management', 'technician', 'blue-collar'], \n",
    "                                                      'marital':['single'], 'default':['no'], \n",
    "                                                      'housing':['no'], 'loan':['no']}):\n",
    "    for key in feature_labels:\n",
    "        feature_labels_query_str = ''\n",
    "        arr = feature_labels[key]\n",
    "        for label in arr:\n",
    "            feature_labels_query_str += (key + ' == \"'+ label + '\" | ')\n",
    "        feature_labels_query_str = feature_labels_query_str[:-3]\n",
    "        fs_df = fs_df.query(feature_labels_query_str)\n",
    "    return fs_df"
   ]
  },
  {
   "cell_type": "code",
   "execution_count": 9,
   "metadata": {},
   "outputs": [],
   "source": [
    "def find_y(x, grad, c=0):\n",
    "    return (grad * x) + c\n",
    "\n",
    "\n",
    "def construct_new_gradient_for_new_expected_values(min_max_locs_vals, results, no_calls):\n",
    "    max_value, max_index, min_value, min_index = min_max_locs_vals\n",
    "    grad_high = (max_value - 0)/((max_index +1) - 0)\n",
    "    grad_low =  (min_value - max_value)/(min_index - max_index)\n",
    "    print(grad_high, grad_low)\n",
    "    for i in range(1, max_index + 2):\n",
    "        results[i-1]['opt_expected'] = find_y(i, grad_high)\n",
    "    for i in range(max_index + 2, min_index +2):\n",
    "        results[i-1]['opt_expected'] = find_y(i, grad_low, 1.8*max_value)\n",
    "    for i in range(min_index + 2, no_calls + 1):\n",
    "        results[i-1]['opt_expected'] = 0"
   ]
  },
  {
   "cell_type": "code",
   "execution_count": 10,
   "metadata": {},
   "outputs": [],
   "source": [
    "# Constructing all possible combinations.\n",
    "poss = []\n",
    "poss.append([['tertiary', 'unknown'],['primary','secondary']])\n",
    "poss.append([['single'],['married'],['divorced']])\n",
    "poss.append([['student','retired','unemployed'],['admin', 'management', 'self-employed'],['technician', 'unknown', 'services'],['housemaid', 'blue-collar', 'entrepreneur']])\n",
    "poss.append([['no'],['yes']])\n",
    "poss.append([['no'],['yes']])\n",
    "poss.append([['no'],['yes']])\n",
    "all_combs = list(itertools.product(*poss))\n",
    "\n",
    "# Age query strings.\n",
    "age_query_strings = ['age < 26','age >= 26 & age <=60','age >60']\n",
    "\n",
    "# Balance query strings.\n",
    "balance_query_strings = ['balance <= 5000',' balance > 5000']\n",
    "\n",
    "#Max call number to consider.\n",
    "# We obtained this by dividing the overall reward we have in the dataset by the number of successes.\n",
    "max_calls = 20"
   ]
  },
  {
   "cell_type": "code",
   "execution_count": 37,
   "metadata": {},
   "outputs": [],
   "source": [
    "# Pull and filter all calls <= 20.\n",
    "current_dir = os.getcwd()\n",
    "mkt_df = load_file(current_dir + '/bank-full.csv')\n",
    "mkt_df_filtered = mkt_df[(mkt_df['campaign']>=1) & (mkt_df['campaign']<=max_calls)]\n",
    "\n",
    "# Setting up looing structures to iterate all possibilities.\n",
    "num_iter = 0\n",
    "num_non_zero_combs = 0\n",
    "metric_total = 0.0\n",
    "metric_count = 0\n",
    "combs_to_call = []\n",
    "for age_query in age_query_strings:\n",
    "    df_filtered_final = mkt_df_filtered.query(age_query)\n",
    "    for bal_query in balance_query_strings:\n",
    "        df_filtered_final = df_filtered_final.query(bal_query)\n",
    "#         Manual query for testing purposes.\n",
    "#         print(\"Length of manual query: \", len(df_filtered_final.query('(education == \"tertiary\" | education == \"unknown\") and (marital == \"single\") and (job == \"student\" | job == \"retired\" | job == \"unemployed\") and (housing == \"no\") and (loan == \"no\") and (default == \"no\")')))\n",
    "        for comb in all_combs:\n",
    "            dict_final_query = construct_dict(comb)\n",
    "            num_iter += 1\n",
    "            extracted_df = extract_rows_feature_set(df_filtered_final, dict_final_query)\n",
    "            if extracted_df.shape[0] != 0:\n",
    "#                 print(age_query)\n",
    "#                 print(bal_query)\n",
    "#                 print(dict_final_query)\n",
    "                num_non_zero_combs += 1\n",
    "                results = compute_expected_reward_feature_set_new(extracted_df, max_calls)\n",
    "#                 plot_graph(results, '', True, False)\n",
    "                max_loc = compute_optimal_call_no(results)\n",
    "                gradient = compute_gradient(results, max_loc)\n",
    "#                 print(\"Max loc is: \", max_loc)\n",
    "#                 print(\"Gradient is: \", gradient)\n",
    "                if max_loc >= 0:\n",
    "#                     print(dict_final_query)\n",
    "#                     print(age_query)\n",
    "#                     print(bal_query)\n",
    "#                     plot_graph(results, '', True, False)\n",
    "                    extracted_df_filter = extracted_df.query('campaign <= '+ str(max_loc + 1))\n",
    "                    metric = compute_success_per_call_made(extracted_df_filter)\n",
    "                    metric_total += metric\n",
    "                    metric_count += 1\n",
    "                    combs_to_call.append({'age':age_query, 'bal':bal_query, 'comb':comb, 'succ_per_call':metric, 'grad':gradient, 'consider':True, 'max_loc':max_loc})\n",
    "                else:\n",
    "                    combs_to_call.append({'age':age_query, 'bal':bal_query, 'comb':comb, 'succ_per_call':0, 'grad':0, 'consider':False})"
   ]
  },
  {
   "cell_type": "markdown",
   "metadata": {},
   "source": [
    "In this section, we compare our method with what was done across the entire dataset."
   ]
  },
  {
   "cell_type": "code",
   "execution_count": null,
   "metadata": {},
   "outputs": [],
   "source": [
    "# Our initial method -> This is concerned with optimally picking the best call number\n",
    "# for the entire dataset.\n",
    "max_calls = 20\n",
    "current_dir = os.getcwd()\n",
    "mkt_df = load_file(current_dir + '/bank-full.csv')\n",
    "mkt_df_filtered = mkt_df[(mkt_df['campaign']>=1) & (mkt_df['campaign']<=max_calls)]\n",
    "results = compute_expected_reward_feature_set_new(mkt_df_filtered, max_calls)\n",
    "plot_graph(results, '', True, False)"
   ]
  },
  {
   "cell_type": "code",
   "execution_count": 16,
   "metadata": {},
   "outputs": [
    {
     "name": "stdout",
     "output_type": "stream",
     "text": [
      "Calls per success made made for subset of dataset:  10.740535083291267\n"
     ]
    }
   ],
   "source": [
    "mkt_df = load_file(current_dir + '/bank-full.csv')\n",
    "mkt_df_filtered = mkt_df[(mkt_df['campaign']>=1) & (mkt_df['campaign']<=max_calls)]\n",
    "# for item in results:\n",
    "#     print(item)\n",
    "# Max call number is 2.\n",
    "\n",
    "mkt_df_filtered_max_call = mkt_df_filtered.query('campaign <= 2')\n",
    "overall_optimal_success_per_call_ratio = compute_success_per_call_made(mkt_df_filtered_max_call)\n",
    "\n",
    "# num_succ = 0\n",
    "# mkt_df_filtered_max_call = mkt_df_filtered.query('campaign <= 2')\n",
    "# print(mkt_df_filtered_max_call.shape[0])\n",
    "# for index, row in mkt_df_filtered_max_call.iterrows():\n",
    "#     if row['y'] == \"yes\":\n",
    "#         num_succ += 1\n",
    "# overall_optimal_success_per_call_ratio = num_succ/mkt_df_filtered_max_call.shape[0]\n",
    "print(\"Calls per success made made for subset of dataset: \", overall_optimal_success_per_call_ratio)  \n",
    "# Double checking results.\n",
    "# print(compute_success_per_call_made(mkt_df_filtered_max_call))"
   ]
  },
  {
   "cell_type": "code",
   "execution_count": 33,
   "metadata": {},
   "outputs": [
    {
     "name": "stdout",
     "output_type": "stream",
     "text": [
      "118252\n",
      "Calls per success made for entire dataset:  22.375023651844845\n"
     ]
    }
   ],
   "source": [
    "# Computing the metric for the entire dataset without optimization.\n",
    "current_dir = os.getcwd()\n",
    "mkt_df = load_file(current_dir + '/bank-full.csv')\n",
    "mkt_df_filtered = mkt_df[(mkt_df['campaign']>=1) & (mkt_df['campaign']<=max_calls)]\n",
    "num_calls = 0\n",
    "for index, row in mkt_df_filtered.iterrows():\n",
    "    num_calls += row['campaign']\n",
    "# overall_non_optimal_success_per_call_ratio = num_succ/mkt_df_filtered.shape[0]\n",
    "print(num_calls)\n",
    "overall_non_optimal_success_per_call_ratio = compute_success_per_call_made(mkt_df_filtered)\n",
    "print(\"Calls per success made for entire dataset: \", overall_non_optimal_success_per_call_ratio)"
   ]
  },
  {
   "cell_type": "code",
   "execution_count": 38,
   "metadata": {},
   "outputs": [
    {
     "name": "stdout",
     "output_type": "stream",
     "text": [
      "Feature combinations to consider:  127\n",
      "Feature combinations not to consider:  158\n",
      "Average success per call (optimized soln):  6.329266879352918\n"
     ]
    }
   ],
   "source": [
    "consider = 0\n",
    "not_consider = 0\n",
    "overall_metric = 0.0\n",
    "for cp in combs_to_call:\n",
    "    if cp['consider'] == False:\n",
    "        not_consider += 1\n",
    "    else:\n",
    "        consider += 1\n",
    "        overall_metric += cp['succ_per_call']\n",
    "individual_optimal_success_per_call_ratio = overall_metric/consider\n",
    "print(\"Feature combinations to consider: \", consider)\n",
    "print(\"Feature combinations not to consider: \", not_consider)\n",
    "print(\"Average success per call (optimized soln): \", individual_optimal_success_per_call_ratio)"
   ]
  },
  {
   "cell_type": "code",
   "execution_count": 12,
   "metadata": {},
   "outputs": [
    {
     "data": {
      "image/png": "[encoded data removed]",
      "text/plain": [
       "<Figure size 640x480 with 1 Axes>"
      ]
     },
     "metadata": {},
     "output_type": "display_data"
    }
   ],
   "source": [
    "from matplotlib.pyplot import figure\n",
    "figure(num=None, figsize=(8, 6), dpi=80, facecolor='w', edgecolor='k')\n",
    "\n",
    "objects = ('E_DS', 'E_DS_Opt', 'Valid_FS', 'Valid_FS_Opt',)\n",
    "y_pos = np.arange(len(objects))\n",
    "ratios = [overall_non_optimal_success_per_call_ratio, overall_optimal_success_per_call_ratio, 0.29, individual_optimal_success_per_call_ratio]\n",
    "\n",
    "plt.bar(y_pos, ratios, align='center', alpha=0.95, color=\"teal\")\n",
    "plt.xticks(y_pos, objects)\n",
    "plt.ylabel('Success Per Call Ratio')\n",
    "plt.xlabel('Methods')\n",
    "for index, item in enumerate(ratios):\n",
    "    plt.text(index - 0.1 , ratios[index] + 0.005, str(round(item, 2)), bbox=dict(facecolor='red', alpha=0.5))\n",
    "\n",
    "plt.show()"
   ]
  },
  {
   "cell_type": "markdown",
   "metadata": {},
   "source": [
    "The previous graph is good, however, it is better to have a more practical approach with regard to comparing the methods.\n",
    "Our method does increase the ratio, however, this does not mean that more revenue will be generated."
   ]
  },
  {
   "cell_type": "code",
   "execution_count": 8,
   "metadata": {},
   "outputs": [
    {
     "name": "stderr",
     "output_type": "stream",
     "text": [
      "/usr/local/lib/python3.7/site-packages/ipykernel_launcher.py:18: SettingWithCopyWarning: \n",
      "A value is trying to be set on a copy of a slice from a DataFrame.\n",
      "Try using .loc[row_indexer,col_indexer] = value instead\n",
      "\n",
      "See the caveats in the documentation: http://pandas.pydata.org/pandas-docs/stable/user_guide/indexing.html#returning-a-view-versus-a-copy\n",
      "/usr/local/lib/python3.7/site-packages/pandas/core/indexing.py:494: SettingWithCopyWarning: \n",
      "A value is trying to be set on a copy of a slice from a DataFrame.\n",
      "Try using .loc[row_indexer,col_indexer] = value instead\n",
      "\n",
      "See the caveats in the documentation: http://pandas.pydata.org/pandas-docs/stable/user_guide/indexing.html#returning-a-view-versus-a-copy\n",
      "  self.obj[item] = s\n",
      "/usr/local/lib/python3.7/site-packages/ipykernel_launcher.py:30: SettingWithCopyWarning: \n",
      "A value is trying to be set on a copy of a slice from a DataFrame\n",
      "\n",
      "See the caveats in the documentation: http://pandas.pydata.org/pandas-docs/stable/user_guide/indexing.html#returning-a-view-versus-a-copy\n"
     ]
    },
    {
     "name": "stdout",
     "output_type": "stream",
     "text": [
      "Hits:  2858\n",
      "Hits:  2941\n",
      "Hits:  2911\n",
      "Hits:  3027\n",
      "Hits:  2885\n",
      "Hits:  3014\n",
      "Hits:  3009\n",
      "Hits:  3001\n",
      "Hits:  2971\n",
      "Hits:  2771\n",
      "Hits:  2869\n",
      "Hits:  2990\n",
      "Hits:  3028\n",
      "Hits:  2978\n",
      "Hits:  2866\n",
      "[-0.05511811023622047, -0.02538145539906103, -0.08233481684354672, -0.06008457796572881, -0.06963325183374083, -0.09157822663471414, -0.059433293401461994, -0.05924929698007091, -0.08901061280383431, -0.0830053054937532, -0.07206436152002739, -0.07309140705237932, -0.08028072577884286, -0.041276439662550436, -0.08749235847903167]\n",
      "Average:  -14.576774431491707\n"
     ]
    }
   ],
   "source": [
    "# This is a test for the entire dataset.\n",
    "# We simulate some calls being made and use the outcomes \n",
    "# to gain a sense of reward as more calls are made.\n",
    "\n",
    "current_dir = os.getcwd()\n",
    "mkt_df = load_file(current_dir + '/bank-full.csv')\n",
    "mkt_df_filtered = mkt_df[(mkt_df['campaign']>=1) & (mkt_df['campaign']<=max_calls)]\n",
    "\n",
    "max_index = mkt_df_filtered.shape[0]\n",
    "num_iterations = 15\n",
    "results = []\n",
    "\n",
    "for iteration in range(1, num_iterations + 1):\n",
    "    total_value = 0\n",
    "    total_calls = 0\n",
    "    hits = 0\n",
    "    num_calls_to_simulate = 40894\n",
    "    mkt_df_filtered['used'] = 0\n",
    "    while num_calls_to_simulate > 0:\n",
    "        index = random.randrange(0, max_index, 1)\n",
    "        call_details = mkt_df_filtered.iloc[index]\n",
    "        if call_details['used'] == 0:\n",
    "            num_calls_to_simulate -= call_details['campaign']\n",
    "            total_calls += call_details['campaign']\n",
    "            if call_details['y'] == \"yes\":\n",
    "                value = 21 - call_details['campaign']\n",
    "            else:\n",
    "                value = -(call_details['campaign'])\n",
    "            total_value += value\n",
    "            mkt_df_filtered.loc[index, 'used'] = 1\n",
    "        else:\n",
    "            hits +=1 \n",
    "    results.append(total_value/total_calls)\n",
    "    print(\"Hits: \", hits)\n",
    "print(results)\n",
    "print(\"Average: \", len(results)/sum(results))"
   ]
  },
  {
   "cell_type": "markdown",
   "metadata": {},
   "source": [
    "In this block, we now use the feature combinations with the greatest success per call ratio. "
   ]
  },
  {
   "cell_type": "code",
   "execution_count": 21,
   "metadata": {},
   "outputs": [
    {
     "name": "stdout",
     "output_type": "stream",
     "text": [
      "All combs: 285\n",
      "Valid combs: 127\n"
     ]
    }
   ],
   "source": [
    "filtered_combs_valid = [comb for comb in combs_to_call if comb['consider'] == True]\n",
    "filtered_combs_valid_sorted = sorted(filtered_combs_valid, key=lambda k: k['grad'], reverse = True) \n",
    "print(\"All combs:\", len(combs_to_call))\n",
    "print(\"Valid combs:\", len(filtered_combs_valid_sorted))"
   ]
  },
  {
   "cell_type": "code",
   "execution_count": 22,
   "metadata": {},
   "outputs": [],
   "source": [
    "def get_rows(df, comb, age, bal):\n",
    "    copy_df = df.query(age)\n",
    "    copy_df = copy_df.query(bal)\n",
    "    return extract_rows_feature_set(copy_df, comb)"
   ]
  },
  {
   "cell_type": "code",
   "execution_count": 41,
   "metadata": {},
   "outputs": [
    {
     "name": "stdout",
     "output_type": "stream",
     "text": [
      "Total Calls:  14267\n",
      "Total Succ:  2110\n",
      "Value:  30043\n",
      "Ratio:  6.7616113744075825\n",
      "ratio 2:  0.1478937408004486\n"
     ]
    }
   ],
   "source": [
    "num_iterations = 10\n",
    "mkt_df = load_file(current_dir + '/bank-full.csv')\n",
    "mkt_df_filtered = mkt_df[(mkt_df['campaign']>=1) & (mkt_df['campaign']<=max_calls)]\n",
    "\n",
    "total_value = 0\n",
    "total_succ = 0\n",
    "total_calls = 0\n",
    "for item in filtered_combs_valid_sorted:\n",
    "    comb = construct_dict(item['comb'])\n",
    "    age = item['age']\n",
    "    bal = item['bal']\n",
    "    result_df = get_rows(mkt_df_filtered, comb, age, bal)\n",
    "    for index, call_details in result_df.iterrows():\n",
    "        if call_details['campaign'] <= item['max_loc']:\n",
    "            total_calls += call_details['campaign']\n",
    "            if call_details['y'] == \"yes\":\n",
    "                value = 21 - call_details['campaign']\n",
    "                total_succ += 1\n",
    "            else:\n",
    "                value = -(call_details['campaign'])\n",
    "            total_value += value\n",
    "#         if total_calls >= 40894:\n",
    "#             break\n",
    "print(\"Total Calls: \", total_calls)\n",
    "print(\"Total Succ: \", total_succ)\n",
    "print(\"Value: \", total_value)\n",
    "print(\"Ratio: \", total_calls/total_succ)\n",
    "print(\"ratio 2: \", total_succ/total_calls)"
   ]
  },
  {
   "cell_type": "code",
   "execution_count": 71,
   "metadata": {},
   "outputs": [
    {
     "data": {
      "text/plain": [
       "2.10576855680942"
      ]
     },
     "execution_count": 71,
     "metadata": {},
     "output_type": "execute_result"
    }
   ],
   "source": [
    "30043/14267"
   ]
  },
  {
   "cell_type": "code",
   "execution_count": 76,
   "metadata": {},
   "outputs": [
    {
     "data": {
      "text/plain": [
       "0.43991783635741183"
      ]
     },
     "execution_count": 76,
     "metadata": {},
     "output_type": "execute_result"
    }
   ],
   "source": [
    "17990/40894"
   ]
  },
  {
   "cell_type": "code",
   "execution_count": 61,
   "metadata": {},
   "outputs": [
    {
     "name": "stdout",
     "output_type": "stream",
     "text": [
      "Total Value:  4679\n",
      "Total Calls:  41122\n"
     ]
    }
   ],
   "source": [
    "num_iterations = 10\n",
    "mkt_df = load_file(current_dir + '/bank-full.csv')\n",
    "mkt_df_filtered = mkt_df[(mkt_df['campaign']>=1) & (mkt_df['campaign']<=max_calls)]\n",
    "\n",
    "total_value = 0\n",
    "total_calls = 0\n",
    "for item in combs_to_call:\n",
    "    comb = construct_dict(item['comb'])\n",
    "    age = item['age']\n",
    "    bal = item['bal']\n",
    "    result_df = get_rows(mkt_df_filtered, comb, age, bal)\n",
    "    for index, call_details in result_df.iterrows():\n",
    "        if call_details['campaign'] <=item['max_loc']:\n",
    "        total_calls += call_details['campaign']\n",
    "        if call_details['y'] == \"yes\":\n",
    "            value = 21 - call_details['campaign']\n",
    "        else:\n",
    "            value = -(call_details['campaign'])\n",
    "        total_value += value\n",
    "        if total_calls >= 40894:\n",
    "            break\n",
    "print(\"Total Value: \", total_value)\n",
    "print(\"Total Calls: \", total_calls) "
   ]
  },
  {
   "cell_type": "code",
   "execution_count": 63,
   "metadata": {},
   "outputs": [
    {
     "data": {
      "text/plain": [
       "0.1137833762949273"
      ]
     },
     "execution_count": 63,
     "metadata": {},
     "output_type": "execute_result"
    }
   ],
   "source": [
    "4679/41122"
   ]
  },
  {
   "cell_type": "code",
   "execution_count": 60,
   "metadata": {},
   "outputs": [
    {
     "name": "stdout",
     "output_type": "stream",
     "text": [
      "Hits:  3232\n",
      "Hits:  3004\n",
      "Hits:  3106\n",
      "Hits:  3093\n",
      "Hits:  3195\n",
      "Hits:  3080\n",
      "Hits:  3217\n",
      "Hits:  3211\n",
      "Hits:  3168\n",
      "Hits:  3152\n",
      "Hits:  3141\n",
      "Hits:  3118\n",
      "Hits:  3251\n",
      "Hits:  3126\n",
      "Hits:  3106\n",
      "[-0.10959507042253522, -0.09876754536117768, -0.08952413557001027, -0.11930845600821637, -0.08541595344060253, -0.08952413557001027, -0.10711491442542788, -0.1383930754560125, -0.07771311194796303, -0.08959092353962393, -0.11064381250458469, -0.11470839955984839, -0.12089201877934272, -0.10647038685381718, -0.10957329746912825]\n",
      "Average:  -0.10448234912722007\n"
     ]
    }
   ],
   "source": [
    "# This is a test for the entire dataset.\n",
    "# We simulate some calls being made and use the outcomes \n",
    "# to gain a sense of reward as more calls are made.\n",
    "\n",
    "current_dir = os.getcwd()\n",
    "mkt_df_filtered = load_file(current_dir + '/bank-full.csv')\n",
    "# mkt_df_filtered = mkt_df[(mkt_df['campaign']>=1) & (mkt_df['campaign']<=max_calls)]\n",
    "\n",
    "max_index = mkt_df_filtered.shape[0]\n",
    "num_iterations = 15\n",
    "results = []\n",
    "\n",
    "for iteration in range(1, num_iterations + 1):\n",
    "    total_value = 0\n",
    "    total_calls = 0\n",
    "    hits = 0\n",
    "    num_calls_to_simulate = 40894\n",
    "    mkt_df_filtered['used'] = 0\n",
    "    while num_calls_to_simulate > 0:\n",
    "        index = random.randrange(0, max_index, 1)\n",
    "        call_details = mkt_df_filtered.iloc[index]\n",
    "        if call_details['used'] == 0:\n",
    "            num_calls_to_simulate -= call_details['campaign']\n",
    "            total_calls += call_details['campaign']\n",
    "            if call_details['y'] == \"yes\":\n",
    "                value = 21 - call_details['campaign']\n",
    "            else:\n",
    "                value = -(call_details['campaign'])\n",
    "            total_value += value\n",
    "            mkt_df_filtered.loc[index, 'used'] = 1\n",
    "        else:\n",
    "            hits +=1 \n",
    "    results.append(total_value/total_calls)\n",
    "    print(\"Hits: \", hits)\n",
    "print(results)\n",
    "print(\"Average: \", sum(results)/len(results))"
   ]
  },
  {
   "cell_type": "markdown",
   "metadata": {},
   "source": [
    "Plotting final graph regarding the value/call ratios for each of the four scenarios considered."
   ]
  },
  {
   "cell_type": "code",
   "execution_count": 74,
   "metadata": {},
   "outputs": [
    {
     "data": {
      "image/png": "[encoded data removed]",
      "text/plain": [
       "<Figure size 640x480 with 1 Axes>"
      ]
     },
     "metadata": {},
     "output_type": "display_data"
    }
   ],
   "source": [
    "from matplotlib.pyplot import figure\n",
    "figure(num=None, figsize=(8, 6), dpi=80, facecolor='w', edgecolor='k')\n",
    "\n",
    "objects = ('EDS', 'EDS_Opt', 'Valid_FS', 'Valid_FS_Opt',)\n",
    "y_pos = np.arange(len(objects))\n",
    "ratios = [-0.1044, -0.0571, 0.4399, 2.1057]\n",
    "\n",
    "plt.bar(y_pos, ratios, align='center', alpha=0.95, color=\"green\")\n",
    "plt.xticks(y_pos, objects)\n",
    "plt.ylabel('Success Per Call Ratio')\n",
    "plt.xlabel('Methods')\n",
    "for index, item in enumerate(ratios):\n",
    "    plt.text(index - 0.1 , ratios[index] + 0.005, str(round(item, 2)), bbox=dict(facecolor='red', alpha=0.5))\n",
    "plt.show()"
   ]
  }
 ],
 "metadata": {
  "kernelspec": {
   "display_name": "Python 3",
   "language": "python",
   "name": "python3"
  },
  "language_info": {
   "codemirror_mode": {
    "name": "ipython",
    "version": 3
   },
   "file_extension": ".py",
   "mimetype": "text/x-python",
   "name": "python",
   "nbconvert_exporter": "python",
   "pygments_lexer": "ipython3",
   "version": "3.7.5"
  }
 },
 "nbformat": 4,
 "nbformat_minor": 2
}
