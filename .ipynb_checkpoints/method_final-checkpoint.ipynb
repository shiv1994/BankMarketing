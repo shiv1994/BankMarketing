{
 "cells": [
  {
   "cell_type": "code",
   "execution_count": 5,
   "metadata": {},
   "outputs": [],
   "source": [
    "# Imports\n",
    "\n",
    "import os\n",
    "import math\n",
    "import random\n",
    "import operator\n",
    "import numpy as np\n",
    "import pandas as pd\n",
    "import matplotlib\n",
    "import matplotlib.pyplot as plt\n",
    "import math, itertools\n",
    "import statistics\n",
    "\n",
    "from sklearn.model_selection import KFold\n",
    "from sklearn.preprocessing import LabelEncoder\n",
    "from sklearn.model_selection import ShuffleSplit\n",
    "from operator import itemgetter\n",
    "from statistics import mean\n",
    "from sklearn.cluster import KMeans\n",
    "from sklearn.metrics import silhouette_score\n",
    "from collections import Counter\n",
    "from ipynb.fs.full.helper_fns import *"
   ]
  },
  {
   "cell_type": "code",
   "execution_count": 2,
   "metadata": {},
   "outputs": [],
   "source": [
    "# Code that sets up values to construct all possible feature combinations.\n",
    "\n",
    "# Age query strings.\n",
    "# age_query_strings = ['age < 26','age >= 26 & age <=60','age >60']\n",
    "age_query_strings = ['age >= 10 & age <= 32', 'age >= 33 & age <= 40', 'age >= 50 & age <= 59', 'age >= 60']\n",
    "\n",
    "# Balance query strings.\n",
    "balance_query_strings = ['balance <= 5000',' balance > 5000']\n",
    "\n",
    "# Max call number to consider.\n",
    "max_calls = 20"
   ]
  },
  {
   "cell_type": "code",
   "execution_count": 3,
   "metadata": {},
   "outputs": [
    {
     "name": "stdout",
     "output_type": "stream",
     "text": [
      "(44967, 17)\n"
     ]
    },
    {
     "ename": "KeyboardInterrupt",
     "evalue": "",
     "output_type": "error",
     "traceback": [
      "\u001b[0;31m---------------------------------------------------------------------------\u001b[0m",
      "\u001b[0;31mKeyboardInterrupt\u001b[0m                         Traceback (most recent call last)",
      "\u001b[0;32m<ipython-input-3-a55ba4f82b1d>\u001b[0m in \u001b[0;36m<module>\u001b[0;34m\u001b[0m\n\u001b[1;32m     37\u001b[0m     \u001b[0;31m# Occupation.\u001b[0m\u001b[0;34m\u001b[0m\u001b[0;34m\u001b[0m\u001b[0;34m\u001b[0m\u001b[0m\n\u001b[1;32m     38\u001b[0m     \u001b[0mall_jobs\u001b[0m \u001b[0;34m=\u001b[0m \u001b[0;34m[\u001b[0m\u001b[0;34m'student'\u001b[0m\u001b[0;34m,\u001b[0m \u001b[0;34m'retired'\u001b[0m\u001b[0;34m,\u001b[0m \u001b[0;34m'unemployed'\u001b[0m\u001b[0;34m,\u001b[0m \u001b[0;34m'admin.'\u001b[0m\u001b[0;34m,\u001b[0m \u001b[0;34m'management'\u001b[0m\u001b[0;34m,\u001b[0m \u001b[0;34m'self-employed'\u001b[0m\u001b[0;34m,\u001b[0m \u001b[0;34m'technician'\u001b[0m\u001b[0;34m,\u001b[0m \u001b[0;34m'unknown'\u001b[0m\u001b[0;34m,\u001b[0m \u001b[0;34m'services'\u001b[0m\u001b[0;34m,\u001b[0m \u001b[0;34m'housemaid'\u001b[0m\u001b[0;34m,\u001b[0m \u001b[0;34m'blue-collar'\u001b[0m\u001b[0;34m,\u001b[0m \u001b[0;34m'entrepreneur'\u001b[0m\u001b[0;34m]\u001b[0m\u001b[0;34m\u001b[0m\u001b[0;34m\u001b[0m\u001b[0m\n\u001b[0;32m---> 39\u001b[0;31m     \u001b[0mmetric_vals\u001b[0m \u001b[0;34m=\u001b[0m \u001b[0mcompute_metric_for_each_attribute\u001b[0m\u001b[0;34m(\u001b[0m\u001b[0mall_jobs\u001b[0m\u001b[0;34m,\u001b[0m \u001b[0mtrain_df\u001b[0m\u001b[0;34m,\u001b[0m \u001b[0;34m'job'\u001b[0m\u001b[0;34m)\u001b[0m\u001b[0;34m\u001b[0m\u001b[0;34m\u001b[0m\u001b[0m\n\u001b[0m\u001b[1;32m     40\u001b[0m     \u001b[0mjob_cmbs\u001b[0m \u001b[0;34m=\u001b[0m \u001b[0mfind_combinations\u001b[0m\u001b[0;34m(\u001b[0m\u001b[0mall_jobs\u001b[0m\u001b[0;34m,\u001b[0m \u001b[0mmetric_vals\u001b[0m\u001b[0;34m)\u001b[0m\u001b[0;34m\u001b[0m\u001b[0;34m\u001b[0m\u001b[0m\n\u001b[1;32m     41\u001b[0m \u001b[0;34m\u001b[0m\u001b[0m\n",
      "\u001b[0;32m~/Desktop/BankMarketing/helper_fns.ipynb\u001b[0m in \u001b[0;36mcompute_metric_for_each_attribute\u001b[0;34m(all_values, df, attrib)\u001b[0m\n\u001b[1;32m    158\u001b[0m     \u001b[0;34m\"    for loc, row in df.iterrows():\\n\"\u001b[0m\u001b[0;34m,\u001b[0m\u001b[0;34m\u001b[0m\u001b[0;34m\u001b[0m\u001b[0m\n\u001b[1;32m    159\u001b[0m     \u001b[0;34m\"        if row['y'] == \\\"yes\\\":\\n\"\u001b[0m\u001b[0;34m,\u001b[0m\u001b[0;34m\u001b[0m\u001b[0;34m\u001b[0m\u001b[0m\n\u001b[0;32m--> 160\u001b[0;31m     \u001b[0;34m\"            total_successes += 1\\n\"\u001b[0m\u001b[0;34m,\u001b[0m\u001b[0;34m\u001b[0m\u001b[0;34m\u001b[0m\u001b[0m\n\u001b[0m\u001b[1;32m    161\u001b[0m     \u001b[0;34m\"        total_calls += row['campaign']\\n\"\u001b[0m\u001b[0;34m,\u001b[0m\u001b[0;34m\u001b[0m\u001b[0;34m\u001b[0m\u001b[0m\n\u001b[1;32m    162\u001b[0m     \u001b[0;34m\"    return div(total_successes, total_calls)\\n\"\u001b[0m\u001b[0;34m,\u001b[0m\u001b[0;34m\u001b[0m\u001b[0;34m\u001b[0m\u001b[0m\n",
      "\u001b[0;32m~/Desktop/BankMarketing/helper_fns.ipynb\u001b[0m in \u001b[0;36mcompute_metric\u001b[0;34m(df)\u001b[0m\n\u001b[1;32m    146\u001b[0m     \u001b[0;34m\"def find_matching_attribute_comb(row_value, all_combs):\\n\"\u001b[0m\u001b[0;34m,\u001b[0m\u001b[0;34m\u001b[0m\u001b[0;34m\u001b[0m\u001b[0m\n\u001b[1;32m    147\u001b[0m     \u001b[0;34m\"    query = None\\n\"\u001b[0m\u001b[0;34m,\u001b[0m\u001b[0;34m\u001b[0m\u001b[0;34m\u001b[0m\u001b[0m\n\u001b[0;32m--> 148\u001b[0;31m     \u001b[0;34m\"    for comb in all_combs:\\n\"\u001b[0m\u001b[0;34m,\u001b[0m\u001b[0;34m\u001b[0m\u001b[0;34m\u001b[0m\u001b[0m\n\u001b[0m\u001b[1;32m    149\u001b[0m     \u001b[0;34m\"        for item in comb:\\n\"\u001b[0m\u001b[0;34m,\u001b[0m\u001b[0;34m\u001b[0m\u001b[0;34m\u001b[0m\u001b[0m\n\u001b[1;32m    150\u001b[0m     \u001b[0;34m\"            if item == row_value:\\n\"\u001b[0m\u001b[0;34m,\u001b[0m\u001b[0;34m\u001b[0m\u001b[0;34m\u001b[0m\u001b[0m\n",
      "\u001b[0;32m/Library/Frameworks/Python.framework/Versions/3.8/lib/python3.8/site-packages/pandas/core/frame.py\u001b[0m in \u001b[0;36miterrows\u001b[0;34m(self)\u001b[0m\n\u001b[1;32m    907\u001b[0m         \u001b[0mklass\u001b[0m \u001b[0;34m=\u001b[0m \u001b[0mself\u001b[0m\u001b[0;34m.\u001b[0m\u001b[0m_constructor_sliced\u001b[0m\u001b[0;34m\u001b[0m\u001b[0;34m\u001b[0m\u001b[0m\n\u001b[1;32m    908\u001b[0m         \u001b[0;32mfor\u001b[0m \u001b[0mk\u001b[0m\u001b[0;34m,\u001b[0m \u001b[0mv\u001b[0m \u001b[0;32min\u001b[0m \u001b[0mzip\u001b[0m\u001b[0;34m(\u001b[0m\u001b[0mself\u001b[0m\u001b[0;34m.\u001b[0m\u001b[0mindex\u001b[0m\u001b[0;34m,\u001b[0m \u001b[0mself\u001b[0m\u001b[0;34m.\u001b[0m\u001b[0mvalues\u001b[0m\u001b[0;34m)\u001b[0m\u001b[0;34m:\u001b[0m\u001b[0;34m\u001b[0m\u001b[0;34m\u001b[0m\u001b[0m\n\u001b[0;32m--> 909\u001b[0;31m             \u001b[0ms\u001b[0m \u001b[0;34m=\u001b[0m \u001b[0mklass\u001b[0m\u001b[0;34m(\u001b[0m\u001b[0mv\u001b[0m\u001b[0;34m,\u001b[0m \u001b[0mindex\u001b[0m\u001b[0;34m=\u001b[0m\u001b[0mcolumns\u001b[0m\u001b[0;34m,\u001b[0m \u001b[0mname\u001b[0m\u001b[0;34m=\u001b[0m\u001b[0mk\u001b[0m\u001b[0;34m)\u001b[0m\u001b[0;34m\u001b[0m\u001b[0;34m\u001b[0m\u001b[0m\n\u001b[0m\u001b[1;32m    910\u001b[0m             \u001b[0;32myield\u001b[0m \u001b[0mk\u001b[0m\u001b[0;34m,\u001b[0m \u001b[0ms\u001b[0m\u001b[0;34m\u001b[0m\u001b[0;34m\u001b[0m\u001b[0m\n\u001b[1;32m    911\u001b[0m \u001b[0;34m\u001b[0m\u001b[0m\n",
      "\u001b[0;32m/Library/Frameworks/Python.framework/Versions/3.8/lib/python3.8/site-packages/pandas/core/series.py\u001b[0m in \u001b[0;36m__init__\u001b[0;34m(self, data, index, dtype, name, copy, fastpath)\u001b[0m\n\u001b[1;32m    318\u001b[0m         \u001b[0mgeneric\u001b[0m\u001b[0;34m.\u001b[0m\u001b[0mNDFrame\u001b[0m\u001b[0;34m.\u001b[0m\u001b[0m__init__\u001b[0m\u001b[0;34m(\u001b[0m\u001b[0mself\u001b[0m\u001b[0;34m,\u001b[0m \u001b[0mdata\u001b[0m\u001b[0;34m,\u001b[0m \u001b[0mfastpath\u001b[0m\u001b[0;34m=\u001b[0m\u001b[0;32mTrue\u001b[0m\u001b[0;34m)\u001b[0m\u001b[0;34m\u001b[0m\u001b[0;34m\u001b[0m\u001b[0m\n\u001b[1;32m    319\u001b[0m \u001b[0;34m\u001b[0m\u001b[0m\n\u001b[0;32m--> 320\u001b[0;31m         \u001b[0mself\u001b[0m\u001b[0;34m.\u001b[0m\u001b[0mname\u001b[0m \u001b[0;34m=\u001b[0m \u001b[0mname\u001b[0m\u001b[0;34m\u001b[0m\u001b[0;34m\u001b[0m\u001b[0m\n\u001b[0m\u001b[1;32m    321\u001b[0m         \u001b[0mself\u001b[0m\u001b[0;34m.\u001b[0m\u001b[0m_set_axis\u001b[0m\u001b[0;34m(\u001b[0m\u001b[0;36m0\u001b[0m\u001b[0;34m,\u001b[0m \u001b[0mindex\u001b[0m\u001b[0;34m,\u001b[0m \u001b[0mfastpath\u001b[0m\u001b[0;34m=\u001b[0m\u001b[0;32mTrue\u001b[0m\u001b[0;34m)\u001b[0m\u001b[0;34m\u001b[0m\u001b[0;34m\u001b[0m\u001b[0m\n\u001b[1;32m    322\u001b[0m \u001b[0;34m\u001b[0m\u001b[0m\n",
      "\u001b[0;32m/Library/Frameworks/Python.framework/Versions/3.8/lib/python3.8/site-packages/pandas/core/generic.py\u001b[0m in \u001b[0;36m__setattr__\u001b[0;34m(self, name, value)\u001b[0m\n\u001b[1;32m   5189\u001b[0m \u001b[0;34m\u001b[0m\u001b[0m\n\u001b[1;32m   5190\u001b[0m         \u001b[0;32mtry\u001b[0m\u001b[0;34m:\u001b[0m\u001b[0;34m\u001b[0m\u001b[0;34m\u001b[0m\u001b[0m\n\u001b[0;32m-> 5191\u001b[0;31m             \u001b[0mobject\u001b[0m\u001b[0;34m.\u001b[0m\u001b[0m__getattribute__\u001b[0m\u001b[0;34m(\u001b[0m\u001b[0mself\u001b[0m\u001b[0;34m,\u001b[0m \u001b[0mname\u001b[0m\u001b[0;34m)\u001b[0m\u001b[0;34m\u001b[0m\u001b[0;34m\u001b[0m\u001b[0m\n\u001b[0m\u001b[1;32m   5192\u001b[0m             \u001b[0;32mreturn\u001b[0m \u001b[0mobject\u001b[0m\u001b[0;34m.\u001b[0m\u001b[0m__setattr__\u001b[0m\u001b[0;34m(\u001b[0m\u001b[0mself\u001b[0m\u001b[0;34m,\u001b[0m \u001b[0mname\u001b[0m\u001b[0;34m,\u001b[0m \u001b[0mvalue\u001b[0m\u001b[0;34m)\u001b[0m\u001b[0;34m\u001b[0m\u001b[0;34m\u001b[0m\u001b[0m\n\u001b[1;32m   5193\u001b[0m         \u001b[0;32mexcept\u001b[0m \u001b[0mAttributeError\u001b[0m\u001b[0;34m:\u001b[0m\u001b[0;34m\u001b[0m\u001b[0;34m\u001b[0m\u001b[0m\n",
      "\u001b[0;32m/Library/Frameworks/Python.framework/Versions/3.8/lib/python3.8/site-packages/pandas/core/series.py\u001b[0m in \u001b[0;36mname\u001b[0;34m(self)\u001b[0m\n\u001b[1;32m    459\u001b[0m         \u001b[0mReturn\u001b[0m \u001b[0mname\u001b[0m \u001b[0mof\u001b[0m \u001b[0mthe\u001b[0m \u001b[0mSeries\u001b[0m\u001b[0;34m.\u001b[0m\u001b[0;34m\u001b[0m\u001b[0;34m\u001b[0m\u001b[0m\n\u001b[1;32m    460\u001b[0m         \"\"\"\n\u001b[0;32m--> 461\u001b[0;31m         \u001b[0;32mreturn\u001b[0m \u001b[0mself\u001b[0m\u001b[0;34m.\u001b[0m\u001b[0m_name\u001b[0m\u001b[0;34m\u001b[0m\u001b[0;34m\u001b[0m\u001b[0m\n\u001b[0m\u001b[1;32m    462\u001b[0m \u001b[0;34m\u001b[0m\u001b[0m\n\u001b[1;32m    463\u001b[0m     \u001b[0;34m@\u001b[0m\u001b[0mname\u001b[0m\u001b[0;34m.\u001b[0m\u001b[0msetter\u001b[0m\u001b[0;34m\u001b[0m\u001b[0;34m\u001b[0m\u001b[0m\n",
      "\u001b[0;32m/Library/Frameworks/Python.framework/Versions/3.8/lib/python3.8/site-packages/pandas/core/generic.py\u001b[0m in \u001b[0;36m__getattr__\u001b[0;34m(self, name)\u001b[0m\n\u001b[1;32m   5169\u001b[0m \u001b[0;34m\u001b[0m\u001b[0m\n\u001b[1;32m   5170\u001b[0m         if (\n\u001b[0;32m-> 5171\u001b[0;31m             \u001b[0mname\u001b[0m \u001b[0;32min\u001b[0m \u001b[0mself\u001b[0m\u001b[0;34m.\u001b[0m\u001b[0m_internal_names_set\u001b[0m\u001b[0;34m\u001b[0m\u001b[0;34m\u001b[0m\u001b[0m\n\u001b[0m\u001b[1;32m   5172\u001b[0m             \u001b[0;32mor\u001b[0m \u001b[0mname\u001b[0m \u001b[0;32min\u001b[0m \u001b[0mself\u001b[0m\u001b[0;34m.\u001b[0m\u001b[0m_metadata\u001b[0m\u001b[0;34m\u001b[0m\u001b[0;34m\u001b[0m\u001b[0m\n\u001b[1;32m   5173\u001b[0m             \u001b[0;32mor\u001b[0m \u001b[0mname\u001b[0m \u001b[0;32min\u001b[0m \u001b[0mself\u001b[0m\u001b[0;34m.\u001b[0m\u001b[0m_accessors\u001b[0m\u001b[0;34m\u001b[0m\u001b[0;34m\u001b[0m\u001b[0m\n",
      "\u001b[0;31mKeyboardInterrupt\u001b[0m: "
     ]
    }
   ],
   "source": [
    "# Main code ... orchestrates everything!\n",
    "\n",
    "# Pull and filter all calls <= 20.\n",
    "current_dir = os.getcwd()\n",
    "mkt_df = load_file(current_dir + '/bank-full.csv')\n",
    "mkt_df_filtered = mkt_df[(mkt_df['campaign']>=1) & (mkt_df['campaign']<=max_calls)]\n",
    "\n",
    "print(mkt_df_filtered.shape)\n",
    "\n",
    "# Splitting dataframe into data and result dataframes.\n",
    "X = mkt_df_filtered.iloc[:,0:len(mkt_df_filtered.columns)-1]\n",
    "y = mkt_df_filtered.iloc[:,-1]   \n",
    "\n",
    "all_non_optimal_ratios = []\n",
    "all_optimal_ratios = []\n",
    "all_non_optimal_calls = []\n",
    "all_optimal_calls = []\n",
    "\n",
    "i = 0\n",
    "kf = KFold(n_splits=20, shuffle=False)\n",
    "\n",
    "for train_index, test_index in kf.split(X):\n",
    "    i += 1\n",
    "    \n",
    "    train_df = mkt_df_filtered.iloc[train_index]\n",
    "    test_df = mkt_df_filtered.iloc[test_index]\n",
    "    \n",
    "    # At this point, we can run computations for the success rate of each sub attribute and join\n",
    "    # the sub-attributes based on the output of k-means.\n",
    "    poss = []\n",
    "    \n",
    "    # Education.\n",
    "    all_ed = ['tertiary', 'secondary', 'primary', 'unknown']\n",
    "    metric_vals = compute_metric_for_each_attribute(all_ed, train_df, 'education')\n",
    "    education_cmbs = find_combinations(all_ed, metric_vals)\n",
    "    \n",
    "    # Occupation.\n",
    "    all_jobs = ['student', 'retired', 'unemployed', 'admin.', 'management', 'self-employed', 'technician', 'unknown', 'services', 'housemaid', 'blue-collar', 'entrepreneur']\n",
    "    metric_vals = compute_metric_for_each_attribute(all_jobs, train_df, 'job')\n",
    "    job_cmbs = find_combinations(all_jobs, metric_vals)\n",
    "    \n",
    "    # Marital.\n",
    "    all_ms = ['married', 'single', 'divorced', 'unknown']\n",
    "    metric_vals = compute_metric_for_each_attribute(all_ms, train_df, 'marital')\n",
    "    marital_cmbs = find_combinations(all_ms, metric_vals)\n",
    "    \n",
    "    # Default\n",
    "    all_def = ['no', 'yes', 'unknown']\n",
    "    metric_vals = compute_metric_for_each_attribute(all_def, train_df, 'default')\n",
    "    default_cmbs = find_combinations(all_def, metric_vals)\n",
    "    \n",
    "    # Loan\n",
    "    all_ln = ['no', 'yes', 'unknown']\n",
    "    metric_vals = compute_metric_for_each_attribute(all_ln, train_df, 'loan')\n",
    "    loan_cmbs = find_combinations(all_ln, metric_vals)\n",
    "    \n",
    "    # Housing\n",
    "    all_hs = ['no', 'yes', 'unknown']\n",
    "    metric_vals = compute_metric_for_each_attribute(all_hs, train_df, 'housing')\n",
    "    housing_cmbs = find_combinations(all_hs, metric_vals)\n",
    "    \n",
    "    poss.append(education_cmbs)\n",
    "    poss.append(marital_cmbs)\n",
    "    poss.append(job_cmbs)\n",
    "    poss.append(default_cmbs)\n",
    "    poss.append(loan_cmbs)\n",
    "    poss.append(housing_cmbs)\n",
    "    all_combs = list(itertools.product(*poss))\n",
    "    \n",
    "    print(\"Number of combinations: \", len(all_combs)* len(age_query_strings) * len(balance_query_strings))\n",
    "    \n",
    "    # We can now go ahead and genreate the feature sets based on what was done previously.\n",
    "    \n",
    "    num_iter = 0\n",
    "    combs_to_consider = {}\n",
    "    # Setting up looping structures to generate all possibilities.\n",
    "    # All that has to be done now is to change 'df_train' to 'X_train'.\n",
    "    for age_query in age_query_strings:\n",
    "        df_filtered_final = train_df.query(age_query)\n",
    "        for bal_query in balance_query_strings:\n",
    "            df_filtered_final = df_filtered_final.query(bal_query)\n",
    "            for comb in all_combs:\n",
    "#                 print(comb)\n",
    "                dict_final_query = construct_dict(comb)\n",
    "#                 print(dict_final_query)\n",
    "                num_iter += 1\n",
    "                extracted_df = extract_rows_feature_set(df_filtered_final, dict_final_query)\n",
    "                key = (dict_final_query['education'], dict_final_query['job'], dict_final_query['marital'], dict_final_query['default'], dict_final_query['loan'], dict_final_query['housing'], bal_query, age_query)\n",
    "                if extracted_df.shape[0] != 0:\n",
    "                    num_non_zero_combs += 1\n",
    "                    results = compute_expected_succ_per_call_rate_feature_set(extracted_df, max_calls)\n",
    "                    max_loc = compute_optimal_call_no(results)\n",
    "                    rate = results[max_loc]['expected']\n",
    "                    # In this new case max_loc never goes below zero!\n",
    "                    if max_loc >= 0:\n",
    "                        combs_to_consider[key] = {'age':age_query, 'bal':bal_query, 'comb':comb, 'consider':True, 'max_loc':max_loc, 'rate':results[max_loc]['expected']}\n",
    "#                     print(age_query)\n",
    "#                     print(bal_query)\n",
    "#                     print(comb)\n",
    "#                     print(dict_final_query)\n",
    "#                     print(\"Max Loc is: \", max_loc+1)\n",
    "#                     plot_graph_new(results, max_calls)\n",
    "#                     print(\"\\n\\n\\n\")\n",
    "#  When we are finished creating the feature combinations .... we can now use the hold out set for validation of the model!\n",
    "    print(\"Iteration: \", i)\n",
    "    num_succ = 0\n",
    "    num_calls = 0\n",
    "    num_succ_optimal = 0\n",
    "    num_calls_optimal = 0\n",
    "    num_bad_cons = 0\n",
    "    num_good_cons = 0 \n",
    "    for loc, row in test_df.iterrows():\n",
    "        # For regular method.\n",
    "        if row['y'] == \"yes\":\n",
    "            num_succ += 1\n",
    "        num_calls += row['campaign']\n",
    "#         -----------------------------------------------------\n",
    "        # For optimal method.\n",
    "        # We have the exact values for each of the following:\n",
    "        jb_query = convert(find_matching_attribute_comb(str(row['job']), job_cmbs))\n",
    "        mt_query = convert(find_matching_attribute_comb(str(row['marital']), marital_cmbs))\n",
    "        ec_query = convert(find_matching_attribute_comb(str(row['education']), education_cmbs))\n",
    "        house_query = convert(find_matching_attribute_comb(str(row['housing']), housing_cmbs))\n",
    "        loan_query = convert(find_matching_attribute_comb(str(row['loan']), loan_cmbs))\n",
    "        def_query = convert(find_matching_attribute_comb(str(row['default']), default_cmbs))\n",
    "        ##########################\n",
    "        no_calls = row['campaign']\n",
    "        # The balance and age are within ranges so we need to find the matching query.\n",
    "        ##########################\n",
    "        balance = row['balance']\n",
    "        bal_query = None\n",
    "        age = row['age']\n",
    "        age_query = None\n",
    "        for age_q in age_query_strings:\n",
    "            if eval(age_q):\n",
    "                age_query = age_q\n",
    "        for bal_q in balance_query_strings:\n",
    "            if eval(bal_q):\n",
    "                bal_query = bal_q\n",
    "        key_to_find = (ec_query, jb_query, mt_query, def_query, loan_query, house_query, bal_query, age_query)\n",
    "        if key_to_find in combs_to_consider.keys():\n",
    "            fs = combs_to_consider[key_to_find]\n",
    "            if fs['rate'] >= 0.5:\n",
    "                if row['y'] == \"yes\":\n",
    "                    if no_calls <= fs['max_loc'] +1:\n",
    "                        num_succ_optimal += 1\n",
    "                        num_calls_optimal += no_calls\n",
    "                    else:\n",
    "                        num_bad_cons += 1\n",
    "                        num_calls_optimal += fs['max_loc'] +1\n",
    "                else:\n",
    "                    if no_calls <= fs['max_loc'] +1:\n",
    "                        num_calls_optimal += no_calls\n",
    "                    else:\n",
    "                        num_good_cons += 1\n",
    "                        num_calls_optimal += fs['max_loc'] +1\n",
    "    \n",
    "    all_non_optimal_ratios.append(num_succ/num_calls)\n",
    "    all_optimal_ratios.append(num_succ_optimal/num_calls_optimal)\n",
    "    all_non_optimal_calls.append(num_calls)\n",
    "    all_optimal_calls.append(num_calls_optimal)\n",
    "    print(\"Non-Optimized: \", num_succ, num_calls, num_succ/num_calls)\n",
    "    print(\"Optimized: \", num_succ_optimal, num_calls_optimal, num_succ_optimal/num_calls_optimal)\n",
    "    print(\"Bad - In FS: \", num_bad_cons)\n",
    "    print(\"Good - In FS: \", num_good_cons)\n",
    "    print(\"Num Rows: \", len(test_df))\n",
    "    print(\"\\n\")   "
   ]
  },
  {
   "cell_type": "code",
   "execution_count": 48,
   "metadata": {},
   "outputs": [
    {
     "name": "stdout",
     "output_type": "stream",
     "text": [
      "Mean Non-Optimal:  0.05399037152894486\n",
      "Mean Optimal:  0.07614002096624461\n"
     ]
    }
   ],
   "source": [
    "mean_non_optimal = statistics.mean(all_non_optimal_ratios)\n",
    "mean_optimal = statistics.mean(all_optimal_ratios)\n",
    "print(\"Mean Non-Optimal: \", mean_non_optimal)\n",
    "print(\"Mean Optimal: \", mean_optimal)"
   ]
  },
  {
   "cell_type": "code",
   "execution_count": 29,
   "metadata": {},
   "outputs": [
    {
     "name": "stdout",
     "output_type": "stream",
     "text": [
      "Yes!\n",
      "age >= 26 & age <=60\n"
     ]
    }
   ],
   "source": [
    "age = 45\n",
    "for age_q in age_query_strings:\n",
    "    if eval(age_q):\n",
    "        print(\"Yes!\")\n",
    "        print(age_q)"
   ]
  },
  {
   "cell_type": "markdown",
   "metadata": {},
   "source": [
    "#### This section computes the metric for the purpose of determining the groupings within each feature (  ..... need to finish for the remainder of features)."
   ]
  },
  {
   "cell_type": "code",
   "execution_count": 37,
   "metadata": {},
   "outputs": [
    {
     "name": "stdout",
     "output_type": "stream",
     "text": [
      "(11039, 17)\n",
      "age >= 10 & age <= 32 0.057239670625956425\n",
      "(13533, 17)\n",
      "age >= 33 & age <= 40 0.0387338725476477\n",
      "(8375, 17)\n",
      "age >= 50 & age <= 59 0.03437390389337075\n",
      "(1783, 17)\n",
      "age >= 60 0.1465917419985341\n"
     ]
    }
   ],
   "source": [
    "# Age.\n",
    "all_age_query_strings = ['age >= 10 & age <= 32', 'age >= 33 & age <= 40', 'age >= 50 & age <= 59', 'age >= 60']\n",
    "for age_query in all_age_query_strings:\n",
    "    df_filtered_final = mkt_df_filtered.query(age_query)\n",
    "    print(df_filtered_final.shape)\n",
    "    print(age_query, compute_metric(df_filtered_final))"
   ]
  },
  {
   "cell_type": "code",
   "execution_count": null,
   "metadata": {},
   "outputs": [],
   "source": [
    "# Age.\n",
    "all_age_query_strings = ['age >= 10 & age <= 19', 'age >= 20 & age <= 29', 'age >= 30 & age <= 39', 'age >= 40 & age <= 49', 'age >= 50 & age <= 59','age >= 60 & age <= 69', 'age >= 70 & age <= 79', 'age >= 80']\n",
    "for age_query in all_age_query_strings:\n",
    "    df_filtered_final = mkt_df_filtered.query(age_query)\n",
    "    print(df_filtered_final.shape)\n",
    "    print(age_query, compute_metric(df_filtered_final))"
   ]
  },
  {
   "cell_type": "code",
   "execution_count": 4,
   "metadata": {
    "scrolled": true
   },
   "outputs": [
    {
     "name": "stdout",
     "output_type": "stream",
     "text": [
      "balance >= -100000 & balance <= -1 3731 0.020823004462072386\n",
      "balance >= 0 & balance < 1000 26650 0.03984136840916789\n",
      "balance >= 1000 & balance < 2000 6114 0.05351934051997464\n",
      "balance >= 2000 & balance < 3000 2880 0.0680968858131488\n",
      "balance >= 3000 & balance < 4000 1708 0.0689893862482695\n",
      "balance >= 4000 & balance < 5000 1049 0.06461086637298091\n",
      "balance >= 5000 & balance < 6000 735 0.06534547402249598\n",
      "balance >= 6000 & balance < 7000 481 0.04906542056074766\n",
      "balance >= 7000 & balance < 8000 341 0.0671217292377702\n",
      "balance >= 8000 & balance < 9000 290 0.052269601100412656\n",
      "balance >= 9000 & balance < 10000 162 0.058823529411764705\n",
      "balance >= 10000 & balance < 11000 151 0.09217877094972067\n",
      "balance >= 11000 & balance < 12000 108 0.08365019011406843\n",
      "balance >= 12000 & balance < 13000 95 0.09821428571428571\n",
      "balance >= 13000 & balance < 14000 80 0.035897435897435895\n",
      "balance >= 14000 & balance < 15000 42 0.058823529411764705\n",
      "balance >= 15000 & balance < 16000 42 0.03418803418803419\n",
      "balance >= 16000 & balance < 17000 42 0.0\n",
      "balance >= 17000 & balance < 18000 40 0.028985507246376812\n",
      "balance >= 18000 & balance < 19000 14 0.11904761904761904\n",
      "balance >= 19000 & balance < 19000 0 0.0\n",
      "balance >= 20000 192 0.05742574257425743\n"
     ]
    }
   ],
   "source": [
    "# Balance\n",
    "all_bal_query_strings = ['balance >= -100000 & balance <= -1', 'balance >= 0 & balance < 1000', 'balance >= 1000 & balance < 2000', 'balance >= 2000 & balance < 3000', 'balance >= 3000 & balance < 4000','balance >= 4000 & balance < 5000', 'balance >= 5000 & balance < 6000', 'balance >= 6000 & balance < 7000', 'balance >= 7000 & balance < 8000', 'balance >= 8000 & balance < 9000', 'balance >= 9000 & balance < 10000','balance >= 10000 & balance < 11000', 'balance >= 11000 & balance < 12000', 'balance >= 12000 & balance < 13000', 'balance >= 13000 & balance < 14000', 'balance >= 14000 & balance < 15000', 'balance >= 15000 & balance < 16000', 'balance >= 16000 & balance < 17000','balance >= 17000 & balance < 18000', 'balance >= 18000 & balance < 19000', 'balance >= 19000 & balance < 19000', 'balance >= 20000']\n",
    "for bal_query in all_bal_query_strings:\n",
    "    df_filtered_final = mkt_df_filtered.query(bal_query)\n",
    "    print(bal_query, len(df_filtered_final), compute_metric(df_filtered_final))\n"
   ]
  },
  {
   "cell_type": "code",
   "execution_count": 6,
   "metadata": {},
   "outputs": [
    {
     "ename": "NameError",
     "evalue": "name 'compute_metric_for_each_attribute_range' is not defined",
     "output_type": "error",
     "traceback": [
      "\u001b[0;31m---------------------------------------------------------------------------\u001b[0m",
      "\u001b[0;31mNameError\u001b[0m                                 Traceback (most recent call last)",
      "\u001b[0;32m<ipython-input-6-7dc0ce9a7a2a>\u001b[0m in \u001b[0;36m<module>\u001b[0;34m\u001b[0m\n\u001b[1;32m      1\u001b[0m \u001b[0;31m# Balance\u001b[0m\u001b[0;34m\u001b[0m\u001b[0;34m\u001b[0m\u001b[0;34m\u001b[0m\u001b[0m\n\u001b[1;32m      2\u001b[0m \u001b[0mall_bal_query_strings\u001b[0m \u001b[0;34m=\u001b[0m \u001b[0;34m[\u001b[0m\u001b[0;34m(\u001b[0m\u001b[0;34m-\u001b[0m\u001b[0;36m10000\u001b[0m\u001b[0;34m,\u001b[0m \u001b[0;36m0\u001b[0m\u001b[0;34m)\u001b[0m\u001b[0;34m,\u001b[0m \u001b[0;34m(\u001b[0m\u001b[0;36m0\u001b[0m\u001b[0;34m,\u001b[0m \u001b[0;36m1000\u001b[0m\u001b[0;34m)\u001b[0m\u001b[0;34m,\u001b[0m \u001b[0;34m(\u001b[0m\u001b[0;36m1000\u001b[0m\u001b[0;34m,\u001b[0m \u001b[0;36m2000\u001b[0m\u001b[0;34m)\u001b[0m\u001b[0;34m,\u001b[0m \u001b[0;34m(\u001b[0m\u001b[0;36m2000\u001b[0m\u001b[0;34m,\u001b[0m \u001b[0;36m3000\u001b[0m\u001b[0;34m)\u001b[0m\u001b[0;34m]\u001b[0m\u001b[0;34m\u001b[0m\u001b[0;34m\u001b[0m\u001b[0m\n\u001b[0;32m----> 3\u001b[0;31m \u001b[0mcompute_metric_for_each_attribute_range\u001b[0m\u001b[0;34m(\u001b[0m\u001b[0mall_bal_query_strings\u001b[0m\u001b[0;34m,\u001b[0m \u001b[0mtrain_df\u001b[0m\u001b[0;34m,\u001b[0m \u001b[0;34m'balance'\u001b[0m\u001b[0;34m)\u001b[0m\u001b[0;34m\u001b[0m\u001b[0;34m\u001b[0m\u001b[0m\n\u001b[0m",
      "\u001b[0;31mNameError\u001b[0m: name 'compute_metric_for_each_attribute_range' is not defined"
     ]
    }
   ],
   "source": [
    "# Balance\n",
    "all_bal_query_strings = [(-10000, 0), (0, 1000), (1000, 2000), (2000, 3000)]\n",
    "compute_metric_for_each_attribute_range(all_bal_query_strings, train_df, 'balance')"
   ]
  },
  {
   "cell_type": "code",
   "execution_count": 12,
   "metadata": {},
   "outputs": [
    {
     "name": "stdout",
     "output_type": "stream",
     "text": [
      "[0.14597583219334245, 0.056017592962814874, 0.037312081144720156, 0.022501419647927314, 0.015759637188208615, 0.011877097856958431, 0.00913508260447036, 0.007407407407407408, 0.007135575942915392, 0.005263157894736842, 0.007236544549977386, 0.002150537634408602, 0.003470213996529786, 0.0030721966205837174, 0.0031746031746031746, 0.0015822784810126582, 0.005115089514066497, 0.0, 0.0, 0.0011627906976744186, 0.0, 0.0, 0.0, 0.0, 0.0, 0.0, 0.0, 0.0, 0.0, 0.0, 0.0, 0.0, 0.0, 0.0, 0.0, 0.0, 0.0, 0.0, 0.0, 0.0, 0.0, 0.0, 0.0, 0.0, 0.0, 0.0, 0.0, 0.0, 0.0, 0.0, 0.0, 0.0, 0.0, 0.0, 0.0, 0.0]\n"
     ]
    }
   ],
   "source": [
    "# This is to determine the maximum number of calls we should stop at!\n",
    "all_ratios_calls = []\n",
    "for i in range(1,57):\n",
    "    query_str = 'campaign == ' + str(i)\n",
    "    call_query_data = mkt_df_filtered.query(query_str)\n",
    "    succ = 0\n",
    "    calls = 0\n",
    "    for lc, rw in call_query_data.iterrows():\n",
    "        if rw['y'] == \"yes\":\n",
    "            succ += 1\n",
    "        calls += rw['campaign']\n",
    "    all_ratios_calls.append(div(succ, calls))\n",
    "for index, value in enumerate(all_ratios_calls):\n",
    "    print(index+1, value)\n",
    "plot_graph_new(all_ratios_calls, 56, True)"
   ]
  }
 ],
 "metadata": {
  "kernelspec": {
   "display_name": "Python 3",
   "language": "python",
   "name": "python3"
  },
  "language_info": {
   "codemirror_mode": {
    "name": "ipython",
    "version": 3
   },
   "file_extension": ".py",
   "mimetype": "text/x-python",
   "name": "python",
   "nbconvert_exporter": "python",
   "pygments_lexer": "ipython3",
   "version": "3.8.1"
  }
 },
 "nbformat": 4,
 "nbformat_minor": 2
}
