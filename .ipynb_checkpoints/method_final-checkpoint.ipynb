{
 "cells": [
  {
   "cell_type": "code",
   "execution_count": 1,
   "metadata": {},
   "outputs": [],
   "source": [
    "# Imports\n",
    "\n",
    "import os\n",
    "import math\n",
    "import random\n",
    "import operator\n",
    "import numpy as np\n",
    "import pandas as pd\n",
    "import matplotlib\n",
    "import matplotlib.pyplot as plt\n",
    "import math, itertools\n",
    "from sklearn.model_selection import KFold\n",
    "from sklearn.preprocessing import LabelEncoder\n",
    "from sklearn.model_selection import train_test_split\n",
    "from operator import itemgetter\n",
    "from statistics import mean"
   ]
  },
  {
   "cell_type": "code",
   "execution_count": 14,
   "metadata": {},
   "outputs": [],
   "source": [
    "# Helper Functions\n",
    "\n",
    "\n",
    "def load_file(data_file_path):\n",
    "    data_df = pd.read_csv(data_file_path, delimiter=\";\")\n",
    "    return data_df\n",
    "  \n",
    "    \n",
    "def plot_graph_new(results, max_calls):\n",
    "    x_pts = [i+1 for i in range(0, max_calls)]\n",
    "    y_pts = [results[i]['expected'] for i in range(0, max_calls)]\n",
    "    plt.title(\"Plot of Expected Success Per Call Rate\")\n",
    "    plt.plot(x_pts, y_pts)\n",
    "    plt.axvline(x=0, color =\"black\")\n",
    "    plt.axhline(y=0, color =\"black\")\n",
    "    plt.xticks(np.arange(1, max_calls+1, 1))\n",
    "    plt.show()\n",
    "    \n",
    "\n",
    "def div(a,b):\n",
    "    if int(b) == 0:\n",
    "        return 0.0\n",
    "    else:\n",
    "        return a/b\n",
    "    \n",
    "\n",
    "# Used for creating all possible combinations of the features.\n",
    "def powerset(iterable):\n",
    "    \"powerset([1,2,3]) --> () (1,) (2,) (3,) (1,2) (1,3) (2,3) (1,2,3)\"\n",
    "    s = iterable\n",
    "    return itertools.chain.from_iterable(combinations(s, r) for r in range(len(s)+1))\n",
    "\n",
    "\n",
    "def construct_dict(feature_comb):\n",
    "    new_dict = {}\n",
    "    new_dict['education'] = feature_comb[0]\n",
    "    new_dict['job'] = feature_comb[2]\n",
    "    new_dict['marital'] = feature_comb[1]\n",
    "    new_dict['default'] = feature_comb[3]\n",
    "    new_dict['loan'] = feature_comb[4]\n",
    "    new_dict['housing'] = feature_comb[5]\n",
    "    return new_dict\n",
    "\n",
    "\n",
    "# This was the old metric (reward per call rate).\n",
    "# def compute_expected_reward_feature_set_new(fs_df, no_calls_considered):\n",
    "#     expected_values_calls = []\n",
    "#     len_df = len(fs_df)\n",
    "#     for i in range(1, no_calls_considered + 1):\n",
    "#         expected_values_calls.append({'neg_value':0.0, 'pos_value':0.0, 'count':0, 'expected':0.0})\n",
    "#         for index, row in fs_df.iterrows():\n",
    "#             no_calls = row['campaign']\n",
    "#             if no_calls <= i:\n",
    "#                 if row['y'] == \"yes\":\n",
    "#                     expected_values_calls[i-1]['pos_value'] += ((no_calls_considered+1) - no_calls)\n",
    "#                 else:\n",
    "#                     expected_values_calls[i-1]['neg_value'] += (-no_calls)\n",
    "#             else:\n",
    "#                 expected_values_calls[i-1]['neg_value'] += (-i)\n",
    "#             expected_values_calls[i-1]['count'] += 1\n",
    "#     for loc, item in enumerate(expected_values_calls):\n",
    "#         expected_values_calls[loc]['expected'] = (expected_values_calls[loc]['pos_value'] + expected_values_calls[loc]['neg_value'])/len_df\n",
    "#     return expected_values_calls\n",
    "\n",
    "\n",
    "# This is the new metric (success per call rate).\n",
    "def compute_expected_succ_per_call_rate_feature_set(fs_df, no_calls_considered):\n",
    "    expected_values_call_nums = []\n",
    "    for i in range(1, no_calls_considered + 1):\n",
    "        expected_values_call_nums.append({'succ':0, 'total_calls':0, 'expected':0.0})\n",
    "        for index, row in fs_df.iterrows():\n",
    "            no_calls = row['campaign']\n",
    "            if no_calls <= i:\n",
    "                if row['y'] == \"yes\":\n",
    "                    expected_values_call_nums[i-1]['succ'] += 1\n",
    "                    expected_values_call_nums[i-1]['total_calls'] += no_calls\n",
    "            else:\n",
    "                expected_values_call_nums[i-1]['total_calls'] += i\n",
    "    for loc, item in enumerate(expected_values_call_nums):\n",
    "        expected_values_call_nums[loc]['expected'] = div(item['succ'], item['total_calls'])\n",
    "    return expected_values_call_nums\n",
    "\n",
    "\n",
    "def compute_optimal_call_no(results):\n",
    "    max_loc = max(range(len(results)), key=lambda index: results[index]['expected'])\n",
    "    if results[max_loc]['expected'] < 0.0:\n",
    "        return -1\n",
    "    else:\n",
    "        return max_loc\n",
    "\n",
    "\n",
    "# Given a dictionary of what attributes comprise a feature set, we can get all rows corresponding to this feature set.\n",
    "def extract_rows_feature_set(fs_df, feature_labels = {'education':['tertiary', 'unknown'], \n",
    "                                                      'job':['management', 'technician', 'blue-collar'], \n",
    "                                                      'marital':['single'], 'default':['no'], \n",
    "                                                      'housing':['no'], 'loan':['no']}):\n",
    "    for key in feature_labels:\n",
    "        feature_labels_query_str = ''\n",
    "        arr = feature_labels[key]\n",
    "        for label in arr:\n",
    "            feature_labels_query_str += (key + ' == \"'+ label + '\" | ')\n",
    "        feature_labels_query_str = feature_labels_query_str[:-3]\n",
    "        fs_df = fs_df.query(feature_labels_query_str)\n",
    "    return fs_df"
   ]
  },
  {
   "cell_type": "code",
   "execution_count": 15,
   "metadata": {},
   "outputs": [],
   "source": [
    "# Code that sets up values to construct all possible feature combinations.\n",
    "\n",
    "poss = []\n",
    "\n",
    "poss.append([['tertiary', 'unknown'],['primary','secondary']])\n",
    "poss.append([['single'],['married'],['divorced']])\n",
    "poss.append([['student','retired','unemployed'],['admin', 'management', 'self-employed'],['technician', 'unknown', 'services'],['housemaid', 'blue-collar', 'entrepreneur']])\n",
    "poss.append([['no'],['yes']])\n",
    "poss.append([['no'],['yes']])\n",
    "poss.append([['no'],['yes']])\n",
    "all_combs = list(itertools.product(*poss))\n",
    "\n",
    "# Age query strings.\n",
    "age_query_strings = ['age < 26','age >= 26 & age <=60','age >60']\n",
    "\n",
    "# Balance query strings.\n",
    "balance_query_strings = ['balance <= 5000',' balance > 5000']\n",
    "\n",
    "# Max call number to consider.\n",
    "# We obtained this by dividing the overall reward we have in the dataset by the number of successes.\n",
    "max_calls = 20"
   ]
  },
  {
   "cell_type": "code",
   "execution_count": 55,
   "metadata": {},
   "outputs": [],
   "source": [
    "# Main code for computing info regarding each feature set.\n",
    "\n",
    "# Pull and filter all calls <= 20.\n",
    "current_dir = os.getcwd()\n",
    "mkt_df = load_file(current_dir + '/bank-full.csv')\n",
    "mkt_df_filtered = mkt_df[(mkt_df['campaign']>=1) & (mkt_df['campaign']<=max_calls)]\n",
    "\n",
    "# Setting up looping structures to generate all possibilities.\n",
    "num_iter = 0\n",
    "num_non_zero_combs = 0\n",
    "metric_total = 0.0\n",
    "metric_count = 0\n",
    "\n",
    "combs_to_consider = []\n",
    "\n",
    "for age_query in age_query_strings:\n",
    "    df_filtered_final = mkt_df_filtered.query(age_query)\n",
    "    for bal_query in balance_query_strings:\n",
    "        df_filtered_final = df_filtered_final.query(bal_query)\n",
    "        for comb in all_combs:\n",
    "            dict_final_query = construct_dict(comb)\n",
    "            num_iter += 1\n",
    "            extracted_df = extract_rows_feature_set(df_filtered_final, dict_final_query)\n",
    "            if extracted_df.shape[0] != 0:\n",
    "                num_non_zero_combs += 1\n",
    "                results = compute_expected_succ_per_call_rate_feature_set(extracted_df, max_calls)\n",
    "                max_loc = compute_optimal_call_no(results)\n",
    "                if max_loc >= 0:\n",
    "                    combs_to_consider.append({'age':age_query, 'bal':bal_query, 'comb':comb, 'consider':True, 'max_loc':max_loc, 'rate':results[max_loc]['expected']})\n",
    "                else:\n",
    "                    combs_to_consider.append({'age':age_query, 'bal':bal_query, 'comb':comb, 'consider':False})\n",
    "#                 print(age_query)\n",
    "#                 print(bal_query)\n",
    "#                 print(dict_final_query)\n",
    "#                 print(\"Max Loc is: \", max_loc+1)\n",
    "#                 plot_graph_new(results, max_calls)\n",
    "#                 print(\"\\n\\n\\n\")"
   ]
  },
  {
   "cell_type": "code",
   "execution_count": 76,
   "metadata": {},
   "outputs": [],
   "source": [
    "def compute_metric(df):\n",
    "    total_calls = 0\n",
    "    total_successes = 0\n",
    "    for loc, row in df.iterrows():\n",
    "        if row['y'] == \"yes\":\n",
    "            total_successes += 1\n",
    "        total_calls += row['campaign']\n",
    "    return div(total_successes, total_calls)"
   ]
  },
  {
   "cell_type": "code",
   "execution_count": 89,
   "metadata": {},
   "outputs": [
    {
     "name": "stdout",
     "output_type": "stream",
     "text": [
      "All combs:  0.3513100131570743\n",
      "All combs(ratio >=0.20):  0.5514576239792396\n"
     ]
    }
   ],
   "source": [
    "# Metric using our method.\n",
    "\n",
    "filtered_combs_valid = [comb for comb in combs_to_consider if comb['consider'] == True]\n",
    "filtered_combs_valid_sorted = sorted(filtered_combs_valid, key=lambda k: k['rate'], reverse = True) \n",
    "print(\"All combs: \", mean([comb['rate'] for comb in combs_to_consider]))\n",
    "print(\"All combs(ratio >=0.20): \", mean([comb['rate'] for comb in combs_to_consider if comb['rate'] >= 0.20]))\n",
    "# The ratio will be increased further when we filter the unwanted feature combinations."
   ]
  },
  {
   "cell_type": "code",
   "execution_count": 35,
   "metadata": {},
   "outputs": [
    {
     "name": "stdout",
     "output_type": "stream",
     "text": [
      "0.04469269018705815\n"
     ]
    }
   ],
   "source": [
    "# Metric for the filtered dataset (only up to 20 calls).\n",
    "print(compute_metric(mkt_df_filtered))"
   ]
  },
  {
   "cell_type": "code",
   "execution_count": 36,
   "metadata": {},
   "outputs": [
    {
     "name": "stdout",
     "output_type": "stream",
     "text": [
      "0.042326899068472104\n"
     ]
    }
   ],
   "source": [
    "# Metric for the entire dataset (up to 56 calls).\n",
    "print(compute_metric(mkt_df))"
   ]
  },
  {
   "cell_type": "markdown",
   "metadata": {},
   "source": [
    "#### This section computes the metric for the purpose of determining the groupings within each feature (  ..... need to finish for the remainder of features)."
   ]
  },
  {
   "cell_type": "code",
   "execution_count": 40,
   "metadata": {},
   "outputs": [
    {
     "name": "stdout",
     "output_type": "stream",
     "text": [
      "age >= 10 & age <= 19 0.14634146341463414\n",
      "age >= 20 & age <= 29 0.07631601041054488\n",
      "age >= 30 & age <= 39 0.040097307272879794\n",
      "age >= 40 & age <= 49 0.03357253501090633\n",
      "age >= 50 & age <= 59 0.03437390389337075\n",
      "age >= 60 & age <= 69 0.12427647259107934\n",
      "age >= 70 & age <= 79 0.20594965675057209\n",
      "age >= 80 0.1950354609929078\n"
     ]
    }
   ],
   "source": [
    "# Age.\n",
    "all_age_query_strings = ['age >= 10 & age <= 19', 'age >= 20 & age <= 29', 'age >= 30 & age <= 39', 'age >= 40 & age <= 49', 'age >= 50 & age <= 59','age >= 60 & age <= 69', 'age >= 70 & age <= 79', 'age >= 80']\n",
    "for age_query in all_age_query_strings:\n",
    "    df_filtered_final = mkt_df_filtered.query(age_query)\n",
    "    print(age_query, compute_metric(df_filtered_final))"
   ]
  },
  {
   "cell_type": "code",
   "execution_count": 77,
   "metadata": {},
   "outputs": [
    {
     "name": "stdout",
     "output_type": "stream",
     "text": [
      "job == 'student' 0.12907869481765835\n",
      "job == 'retired' 0.09875598086124401\n",
      "job == 'unemployed' 0.06631648063033486\n",
      "job == 'admin' 0.0\n",
      "job == 'management' 0.05079848502596541\n",
      "job == 'self-employed' 0.04410377358490566\n",
      "job == 'technician' 0.04040647274128299\n",
      "job == 'unknown' 0.0379041248606466\n",
      "job == 'services' 0.03470001880759827\n",
      "job == 'housemaid' 0.0319243275199527\n",
      "job == 'blue-collar' 0.02749087520385183\n",
      "job == 'entrepreneur' 0.030182090296832127\n"
     ]
    }
   ],
   "source": [
    "# Occupation.\n",
    "all_jobs = ['student', 'retired', 'unemployed', 'admin', 'management', 'self-employed', 'technician', 'unknown', 'services', 'housemaid', 'blue-collar', 'entrepreneur']\n",
    "for job in all_jobs:\n",
    "    job_query = \"job == '{0}'\".format(job)\n",
    "    print(job_query, compute_metric(mkt_df_filtered.query(job_query)))"
   ]
  }
 ],
 "metadata": {
  "kernelspec": {
   "display_name": "Python 3",
   "language": "python",
   "name": "python3"
  },
  "language_info": {
   "codemirror_mode": {
    "name": "ipython",
    "version": 3
   },
   "file_extension": ".py",
   "mimetype": "text/x-python",
   "name": "python",
   "nbconvert_exporter": "python",
   "pygments_lexer": "ipython3",
   "version": "3.7.5"
  }
 },
 "nbformat": 4,
 "nbformat_minor": 2
}
